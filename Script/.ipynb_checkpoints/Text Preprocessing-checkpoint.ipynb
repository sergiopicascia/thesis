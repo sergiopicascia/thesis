{
 "cells": [
  {
   "cell_type": "code",
   "execution_count": 1,
   "id": "7f8c9bfa",
   "metadata": {},
   "outputs": [],
   "source": [
    "import pandas as pd\n",
    "import re\n",
    "from langdetect import detect\n",
    "from googletrans import Translator\n",
    "from easynmt import EasyNMT\n",
    "from tqdm import tqdm\n",
    "from nltk.cluster.util import cosine_distance\n",
    "import numpy as np\n",
    "import networkx as nx\n",
    "from transformers import pipeline"
   ]
  },
  {
   "cell_type": "code",
   "execution_count": null,
   "id": "a67f3a2b",
   "metadata": {
    "scrolled": true
   },
   "outputs": [],
   "source": [
    "data = pd.read_csv('/Users/sergiopicascia/Documents/GitHub/thesis/Data/data.csv', index_col=0)"
   ]
  },
  {
   "cell_type": "code",
   "execution_count": null,
   "id": "aa3a7df6",
   "metadata": {
    "scrolled": true
   },
   "outputs": [],
   "source": [
    "data.head()"
   ]
  },
  {
   "cell_type": "code",
   "execution_count": null,
   "id": "838cc602",
   "metadata": {},
   "outputs": [],
   "source": [
    "lyrics_raw = data['lyrics']"
   ]
  },
  {
   "cell_type": "markdown",
   "id": "8a3109b2",
   "metadata": {},
   "source": [
    "## Chorus Retrieval and Translation"
   ]
  },
  {
   "cell_type": "code",
   "execution_count": null,
   "id": "81321eb9",
   "metadata": {},
   "outputs": [],
   "source": [
    "lyrics_plain = []\n",
    "choruses = []\n",
    "gtranslator = Translator()\n",
    "translator = EasyNMT('opus-mt')"
   ]
  },
  {
   "cell_type": "code",
   "execution_count": null,
   "id": "d4292c12",
   "metadata": {
    "scrolled": true
   },
   "outputs": [],
   "source": [
    "# Retrieve chorus and translate every non-English song\n",
    "for lyr in tqdm(lyrics_raw):\n",
    "    \n",
    "    # Detect language of text\n",
    "    lang = detect(lyr)\n",
    "    \n",
    "    # Retrieve chorus if present\n",
    "    try:\n",
    "        start = lyr.index('[Chorus]') + len('[Chorus]')\n",
    "        end = lyr[start:].index('[')\n",
    "        chorus = lyr[start:start+end]\n",
    "        chorus = [sent for sent in chorus.split('\\n') if sent]\n",
    "        \n",
    "        # If not in english, translate\n",
    "        if lang != 'en':\n",
    "            try:\n",
    "                chorus = [translator.translate(s, source_lang=lang, target_lang='en') for s in chorus]\n",
    "            except:\n",
    "                chorus = [gtranslator.translate(s, src=lang, dest='en').text for s in chorus]\n",
    "            \n",
    "        choruses.append(chorus)\n",
    "        \n",
    "    except:\n",
    "        choruses.append('')\n",
    "\n",
    "    # Remove headings\n",
    "    lyr = re.sub(r'\\[.*\\]', '', lyr)\n",
    "\n",
    "    # Remove ending line\n",
    "    lyr = lyr.replace('EmbedShare URLCopyEmbedCopy', '')\n",
    "\n",
    "    # Split in sentences\n",
    "    lyr = [sent for sent in lyr.split('\\n') if sent]\n",
    "    \n",
    "    # If not in english, translate\n",
    "    if lang != 'en':\n",
    "        try:\n",
    "            lyr = [translator.translate(s, source_lang=lang, target_lang='en') for s in lyr]\n",
    "        except:\n",
    "            lyr = [gtranslator.translate(s, src=lang, dest='en').text for s in lyr]\n",
    "    \n",
    "    lyrics_plain.append(lyr)"
   ]
  },
  {
   "cell_type": "code",
   "execution_count": null,
   "id": "9b1bcb73",
   "metadata": {},
   "outputs": [],
   "source": [
    "with open(\"lyrics_plain.txt\", \"w\") as output:\n",
    "    output.write(str(lyrics_plain))"
   ]
  },
  {
   "cell_type": "markdown",
   "id": "5eff2085",
   "metadata": {},
   "source": [
    "## Extractive Text Summarization"
   ]
  },
  {
   "cell_type": "code",
   "execution_count": null,
   "id": "c4f99621",
   "metadata": {
    "scrolled": true
   },
   "outputs": [],
   "source": [
    "# Split song sentences in words\n",
    "def song_split(song):\n",
    "    sentences = list(filter(None, [list(filter(None, re.sub(\"[^a-zA-Z]\", \" \", sent).split(\" \"))) for sent in song]))\n",
    "    return sentences\n",
    "\n",
    "# Remove duplicate sentences\n",
    "def remove_duplicates(sentences):\n",
    "    no_dup = []\n",
    "    for sent in sentences:\n",
    "        if sent not in no_dup:\n",
    "            no_dup.append(sent)       \n",
    "    return no_dup\n",
    "\n",
    "# Compute cosine similarity between sentences\n",
    "def sentence_similarity(sent1, sent2):\n",
    "    \n",
    "    sent1 = [w.lower() for w in sent1]\n",
    "    sent2 = [w.lower() for w in sent2]\n",
    " \n",
    "    all_words = list(set(sent1 + sent2))\n",
    " \n",
    "    vector1 = [0] * len(all_words)\n",
    "    vector2 = [0] * len(all_words)\n",
    "     \n",
    "    # build the vector for the first sentence\n",
    "    for w in sent1:\n",
    "        vector1[all_words.index(w)] += 1\n",
    " \n",
    "    # build the vector for the second sentence\n",
    "    for w in sent2:\n",
    "        vector2[all_words.index(w)] += 1\n",
    " \n",
    "    return 1 - cosine_distance(vector1, vector2)\n",
    " \n",
    "# Build the similarity matrix\n",
    "def build_similarity_matrix(sentences):\n",
    "    # Create an empty similarity matrix\n",
    "    similarity_matrix = np.zeros((len(sentences), len(sentences)))\n",
    " \n",
    "    for idx1 in range(len(sentences)):\n",
    "        for idx2 in range(len(sentences)):\n",
    "            if idx1 == idx2: #ignore if both are same sentences\n",
    "                continue \n",
    "            similarity_matrix[idx1][idx2] = sentence_similarity(sentences[idx1], sentences[idx2])\n",
    "\n",
    "    return similarity_matrix\n",
    "\n",
    "\n",
    "def generate_summary(song):\n",
    "    summarized_text = []\n",
    "\n",
    "    # Split song and remove duplicate sentences\n",
    "    sentences = song_split(song)\n",
    "    sentences = remove_duplicates(sentences)\n",
    "\n",
    "    # Generate similary martix\n",
    "    sentence_similarity_martix = build_similarity_matrix(sentences)\n",
    "\n",
    "    # Rank sentences in similarity martix\n",
    "    sentence_similarity_graph = nx.from_numpy_array(sentence_similarity_martix)\n",
    "    scores = nx.pagerank(sentence_similarity_graph)\n",
    "\n",
    "    # Sort sentences and pick top 4\n",
    "    ranked_sentence = sorted(((scores[i], s) for i, s in enumerate(sentences)), reverse=True)      \n",
    "\n",
    "    for i in range(4):\n",
    "      summarized_text.append(\" \".join(ranked_sentence[i][1]))\n",
    "\n",
    "    # Return summarized text\n",
    "    return summarized_text"
   ]
  },
  {
   "cell_type": "code",
   "execution_count": null,
   "id": "4d6e1b78",
   "metadata": {},
   "outputs": [],
   "source": [
    "# Generate choruses for the ones missing\n",
    "for idx, song in enumerate(lyrics_plain):\n",
    "    if not choruses[idx]:\n",
    "        try:\n",
    "            choruses[idx] = generate_summary(song)\n",
    "        except:\n",
    "            continue"
   ]
  },
  {
   "cell_type": "code",
   "execution_count": 221,
   "id": "a0525ab9",
   "metadata": {},
   "outputs": [],
   "source": [
    "with open(\"choruses.txt\", \"w\") as output:\n",
    "    output.write(str(choruses))"
   ]
  },
  {
   "cell_type": "markdown",
   "id": "bd5e2a80",
   "metadata": {},
   "source": [
    "## Weighted Lyrics"
   ]
  },
  {
   "cell_type": "code",
   "execution_count": 214,
   "id": "ceb4196d",
   "metadata": {},
   "outputs": [],
   "source": [
    "lyrics_weighted = []\n",
    "\n",
    "for idx, song in enumerate(lyrics_plain):\n",
    "    lyr_w = []\n",
    "    # Retrieve corresponding chorus\n",
    "    chorus = choruses[idx]\n",
    "    # If chorus exists, assign an higher weight to sentences composing it\n",
    "    if chorus:\n",
    "        for sent in song:\n",
    "            sent = re.sub(\"[^a-zA-Z\\s]\", \"\", sent)\n",
    "            if sent in chorus:\n",
    "                lyr_w.append((sent, 5))\n",
    "            else:\n",
    "                lyr_w.append((sent, 1))\n",
    "    else:\n",
    "        for sent in song:\n",
    "            lyr_w.append((sent, 1))\n",
    "            \n",
    "    lyrics_weighted.append(lyr_w)"
   ]
  },
  {
   "cell_type": "code",
   "execution_count": 220,
   "id": "d2a7243d",
   "metadata": {},
   "outputs": [],
   "source": [
    "with open(\"lyrics_weighted.txt\", \"w\") as output:\n",
    "    output.write(str(lyrics_weighted))"
   ]
  },
  {
   "cell_type": "markdown",
   "id": "870a00a0",
   "metadata": {},
   "source": [
    "## Abstractive Text Summarization"
   ]
  },
  {
   "cell_type": "code",
   "execution_count": 290,
   "id": "9e2bc289",
   "metadata": {},
   "outputs": [
    {
     "name": "stderr",
     "output_type": "stream",
     "text": [
      "All model checkpoint layers were used when initializing TFT5ForConditionalGeneration.\n",
      "\n",
      "All the layers of TFT5ForConditionalGeneration were initialized from the model checkpoint at t5-base.\n",
      "If your task is similar to the task the model of the checkpoint was trained on, you can already use TFT5ForConditionalGeneration for predictions without further training.\n"
     ]
    }
   ],
   "source": [
    "# Initialize T5 model\n",
    "summarizer = pipeline(\"summarization\", model=\"t5-base\", tokenizer=\"t5-base\", framework=\"tf\")"
   ]
  },
  {
   "cell_type": "code",
   "execution_count": 291,
   "id": "fae25e4c",
   "metadata": {
    "scrolled": true
   },
   "outputs": [
    {
     "name": "stderr",
     "output_type": "stream",
     "text": [
      "  0%|          | 0/2000 [00:00<?, ?it/s]Token indices sequence length is longer than the specified maximum sequence length for this model (1096 > 512). Running this sequence through the model will result in indexing errors\n",
      "  0%|          | 2/2000 [01:11<19:40:27, 35.45s/it]Your max_length is set to 200, but you input_length is only 126. You might consider decreasing max_length manually, e.g. summarizer('...', max_length=50)\n",
      "  1%|          | 21/2000 [10:27<17:36:10, 32.02s/it]Your max_length is set to 200, but you input_length is only 67. You might consider decreasing max_length manually, e.g. summarizer('...', max_length=50)\n",
      "  2%|▏         | 30/2000 [14:10<13:50:44, 25.30s/it]Your max_length is set to 200, but you input_length is only 188. You might consider decreasing max_length manually, e.g. summarizer('...', max_length=50)\n",
      "  2%|▏         | 33/2000 [15:27<14:49:16, 27.13s/it]Your max_length is set to 200, but you input_length is only 163. You might consider decreasing max_length manually, e.g. summarizer('...', max_length=50)\n",
      "  2%|▏         | 34/2000 [15:50<14:08:26, 25.89s/it]Your max_length is set to 200, but you input_length is only 146. You might consider decreasing max_length manually, e.g. summarizer('...', max_length=50)\n",
      "  2%|▏         | 39/2000 [17:40<12:45:27, 23.42s/it]Your max_length is set to 200, but you input_length is only 127. You might consider decreasing max_length manually, e.g. summarizer('...', max_length=50)\n",
      "  2%|▏         | 40/2000 [18:08<13:29:23, 24.78s/it]Your max_length is set to 200, but you input_length is only 106. You might consider decreasing max_length manually, e.g. summarizer('...', max_length=50)\n",
      "  2%|▏         | 45/2000 [20:44<17:14:37, 31.75s/it]Your max_length is set to 200, but you input_length is only 56. You might consider decreasing max_length manually, e.g. summarizer('...', max_length=50)\n",
      "  2%|▎         | 50/2000 [23:04<15:45:21, 29.09s/it]Your max_length is set to 200, but you input_length is only 161. You might consider decreasing max_length manually, e.g. summarizer('...', max_length=50)\n",
      "  3%|▎         | 56/2000 [25:33<14:09:00, 26.20s/it]Your max_length is set to 200, but you input_length is only 129. You might consider decreasing max_length manually, e.g. summarizer('...', max_length=50)\n",
      "  3%|▎         | 61/2000 [27:26<12:51:04, 23.86s/it]Your max_length is set to 200, but you input_length is only 153. You might consider decreasing max_length manually, e.g. summarizer('...', max_length=50)\n",
      "  3%|▎         | 62/2000 [27:45<12:04:03, 22.42s/it]Your max_length is set to 200, but you input_length is only 142. You might consider decreasing max_length manually, e.g. summarizer('...', max_length=50)\n",
      "  3%|▎         | 67/2000 [29:43<13:05:50, 24.39s/it]Your max_length is set to 200, but you input_length is only 118. You might consider decreasing max_length manually, e.g. summarizer('...', max_length=50)\n",
      "  3%|▎         | 68/2000 [30:00<11:51:21, 22.09s/it]Your max_length is set to 200, but you input_length is only 183. You might consider decreasing max_length manually, e.g. summarizer('...', max_length=50)\n",
      "  4%|▍         | 75/2000 [33:08<14:16:13, 26.69s/it]Your max_length is set to 200, but you input_length is only 114. You might consider decreasing max_length manually, e.g. summarizer('...', max_length=50)\n",
      "  4%|▍         | 82/2000 [35:41<12:15:32, 23.01s/it]Your max_length is set to 200, but you input_length is only 130. You might consider decreasing max_length manually, e.g. summarizer('...', max_length=50)\n",
      "  4%|▍         | 84/2000 [36:23<11:45:08, 22.08s/it]Your max_length is set to 200, but you input_length is only 175. You might consider decreasing max_length manually, e.g. summarizer('...', max_length=50)\n",
      "  4%|▍         | 86/2000 [37:11<12:22:07, 23.26s/it]Your max_length is set to 200, but you input_length is only 177. You might consider decreasing max_length manually, e.g. summarizer('...', max_length=50)\n",
      "  5%|▍         | 97/2000 [41:43<11:58:24, 22.65s/it]Your max_length is set to 200, but you input_length is only 100. You might consider decreasing max_length manually, e.g. summarizer('...', max_length=50)\n",
      "  5%|▌         | 104/2000 [44:48<14:22:21, 27.29s/it]Your max_length is set to 200, but you input_length is only 188. You might consider decreasing max_length manually, e.g. summarizer('...', max_length=50)\n",
      "  6%|▌         | 112/2000 [48:24<13:47:59, 26.31s/it]Your max_length is set to 200, but you input_length is only 138. You might consider decreasing max_length manually, e.g. summarizer('...', max_length=50)\n",
      "  6%|▋         | 126/2000 [55:15<17:23:19, 33.40s/it]Your max_length is set to 200, but you input_length is only 165. You might consider decreasing max_length manually, e.g. summarizer('...', max_length=50)\n",
      "  6%|▋         | 127/2000 [55:35<15:10:22, 29.16s/it]Your max_length is set to 200, but you input_length is only 164. You might consider decreasing max_length manually, e.g. summarizer('...', max_length=50)\n",
      "  6%|▋         | 128/2000 [55:59<14:19:15, 27.54s/it]Your max_length is set to 200, but you input_length is only 188. You might consider decreasing max_length manually, e.g. summarizer('...', max_length=50)\n",
      "  7%|▋         | 131/2000 [57:18<14:15:46, 27.47s/it]Your max_length is set to 200, but you input_length is only 116. You might consider decreasing max_length manually, e.g. summarizer('...', max_length=50)\n",
      "  7%|▋         | 138/2000 [1:00:44<15:38:04, 30.23s/it]Your max_length is set to 200, but you input_length is only 126. You might consider decreasing max_length manually, e.g. summarizer('...', max_length=50)\n",
      "  7%|▋         | 140/2000 [1:01:30<13:53:22, 26.88s/it]Your max_length is set to 200, but you input_length is only 82. You might consider decreasing max_length manually, e.g. summarizer('...', max_length=50)\n",
      "  7%|▋         | 144/2000 [1:03:39<15:49:50, 30.71s/it]Your max_length is set to 200, but you input_length is only 180. You might consider decreasing max_length manually, e.g. summarizer('...', max_length=50)\n",
      "  8%|▊         | 151/2000 [1:07:26<16:15:32, 31.66s/it]Your max_length is set to 200, but you input_length is only 133. You might consider decreasing max_length manually, e.g. summarizer('...', max_length=50)\n",
      "  8%|▊         | 158/2000 [1:10:53<14:25:31, 28.19s/it]Your max_length is set to 200, but you input_length is only 75. You might consider decreasing max_length manually, e.g. summarizer('...', max_length=50)\n",
      "  9%|▊         | 171/2000 [1:17:35<18:07:57, 35.69s/it]Your max_length is set to 200, but you input_length is only 87. You might consider decreasing max_length manually, e.g. summarizer('...', max_length=50)\n",
      "  9%|▉         | 188/2000 [1:27:22<11:44:58, 23.34s/it]Your max_length is set to 200, but you input_length is only 178. You might consider decreasing max_length manually, e.g. summarizer('...', max_length=50)\n",
      " 10%|▉         | 190/2000 [1:28:02<10:58:58, 21.84s/it]Your max_length is set to 200, but you input_length is only 138. You might consider decreasing max_length manually, e.g. summarizer('...', max_length=50)\n",
      " 10%|▉         | 192/2000 [1:28:56<12:24:52, 24.72s/it]Your max_length is set to 200, but you input_length is only 146. You might consider decreasing max_length manually, e.g. summarizer('...', max_length=50)\n",
      " 10%|█         | 204/2000 [1:33:58<12:58:43, 26.02s/it]Your max_length is set to 200, but you input_length is only 190. You might consider decreasing max_length manually, e.g. summarizer('...', max_length=50)\n",
      " 10%|█         | 207/2000 [1:35:28<14:19:47, 28.77s/it]Your max_length is set to 200, but you input_length is only 186. You might consider decreasing max_length manually, e.g. summarizer('...', max_length=50)\n",
      " 11%|█         | 213/2000 [1:38:29<15:14:43, 30.71s/it]Your max_length is set to 200, but you input_length is only 158. You might consider decreasing max_length manually, e.g. summarizer('...', max_length=50)\n",
      " 11%|█         | 214/2000 [1:38:56<14:45:08, 29.74s/it]Your max_length is set to 200, but you input_length is only 196. You might consider decreasing max_length manually, e.g. summarizer('...', max_length=50)\n",
      " 11%|█         | 217/2000 [1:40:19<13:54:32, 28.08s/it]Your max_length is set to 200, but you input_length is only 190. You might consider decreasing max_length manually, e.g. summarizer('...', max_length=50)\n"
     ]
    },
    {
     "name": "stderr",
     "output_type": "stream",
     "text": [
      " 11%|█         | 223/2000 [1:43:19<15:43:03, 31.84s/it]Your max_length is set to 200, but you input_length is only 104. You might consider decreasing max_length manually, e.g. summarizer('...', max_length=50)\n",
      " 11%|█▏        | 225/2000 [1:44:15<14:52:41, 30.18s/it]Your max_length is set to 200, but you input_length is only 137. You might consider decreasing max_length manually, e.g. summarizer('...', max_length=50)\n",
      " 12%|█▏        | 235/2000 [1:49:12<16:51:44, 34.39s/it]Your max_length is set to 200, but you input_length is only 137. You might consider decreasing max_length manually, e.g. summarizer('...', max_length=50)\n",
      " 12%|█▏        | 237/2000 [1:50:17<16:48:36, 34.33s/it]Your max_length is set to 200, but you input_length is only 74. You might consider decreasing max_length manually, e.g. summarizer('...', max_length=50)\n",
      " 12%|█▏        | 241/2000 [1:52:08<14:30:47, 29.70s/it]Your max_length is set to 200, but you input_length is only 171. You might consider decreasing max_length manually, e.g. summarizer('...', max_length=50)\n",
      " 12%|█▏        | 245/2000 [1:54:25<15:52:33, 32.57s/it]Your max_length is set to 200, but you input_length is only 74. You might consider decreasing max_length manually, e.g. summarizer('...', max_length=50)\n",
      " 12%|█▎        | 250/2000 [1:57:28<17:24:46, 35.82s/it]Your max_length is set to 200, but you input_length is only 196. You might consider decreasing max_length manually, e.g. summarizer('...', max_length=50)\n",
      " 13%|█▎        | 257/2000 [2:01:18<17:34:07, 36.29s/it]Your max_length is set to 200, but you input_length is only 178. You might consider decreasing max_length manually, e.g. summarizer('...', max_length=50)\n",
      " 13%|█▎        | 265/2000 [2:04:35<12:21:49, 25.65s/it]Your max_length is set to 200, but you input_length is only 168. You might consider decreasing max_length manually, e.g. summarizer('...', max_length=50)\n",
      " 14%|█▎        | 272/2000 [2:07:54<14:00:39, 29.19s/it]Your max_length is set to 200, but you input_length is only 192. You might consider decreasing max_length manually, e.g. summarizer('...', max_length=50)\n",
      " 14%|█▍        | 283/2000 [2:12:52<13:02:59, 27.36s/it]Your max_length is set to 200, but you input_length is only 177. You might consider decreasing max_length manually, e.g. summarizer('...', max_length=50)\n",
      " 14%|█▍        | 286/2000 [2:14:08<12:56:43, 27.19s/it]Your max_length is set to 200, but you input_length is only 125. You might consider decreasing max_length manually, e.g. summarizer('...', max_length=50)\n",
      " 15%|█▍        | 292/2000 [2:17:00<13:41:12, 28.85s/it]Your max_length is set to 200, but you input_length is only 109. You might consider decreasing max_length manually, e.g. summarizer('...', max_length=50)\n",
      " 15%|█▍        | 298/2000 [2:19:35<12:29:47, 26.43s/it]Your max_length is set to 200, but you input_length is only 156. You might consider decreasing max_length manually, e.g. summarizer('...', max_length=50)\n",
      " 15%|█▌        | 300/2000 [2:20:31<12:58:41, 27.48s/it]Your max_length is set to 200, but you input_length is only 197. You might consider decreasing max_length manually, e.g. summarizer('...', max_length=50)\n",
      " 15%|█▌        | 301/2000 [2:21:01<13:17:49, 28.18s/it]Your max_length is set to 200, but you input_length is only 96. You might consider decreasing max_length manually, e.g. summarizer('...', max_length=50)\n",
      " 15%|█▌        | 302/2000 [2:21:22<12:17:44, 26.07s/it]Your max_length is set to 200, but you input_length is only 177. You might consider decreasing max_length manually, e.g. summarizer('...', max_length=50)\n",
      " 16%|█▌        | 312/2000 [2:25:51<12:55:19, 27.56s/it]Your max_length is set to 200, but you input_length is only 180. You might consider decreasing max_length manually, e.g. summarizer('...', max_length=50)\n",
      " 16%|█▌        | 318/2000 [2:28:49<14:50:33, 31.77s/it]Your max_length is set to 200, but you input_length is only 182. You might consider decreasing max_length manually, e.g. summarizer('...', max_length=50)\n",
      " 16%|█▌        | 322/2000 [2:30:36<13:03:54, 28.03s/it]Your max_length is set to 200, but you input_length is only 190. You might consider decreasing max_length manually, e.g. summarizer('...', max_length=50)\n",
      " 17%|█▋        | 338/2000 [2:38:20<14:50:46, 32.16s/it]Your max_length is set to 200, but you input_length is only 182. You might consider decreasing max_length manually, e.g. summarizer('...', max_length=50)\n",
      " 17%|█▋        | 342/2000 [2:40:06<12:42:44, 27.60s/it]Your max_length is set to 200, but you input_length is only 80. You might consider decreasing max_length manually, e.g. summarizer('...', max_length=50)\n",
      " 17%|█▋        | 344/2000 [2:40:57<12:25:16, 27.00s/it]Your max_length is set to 200, but you input_length is only 101. You might consider decreasing max_length manually, e.g. summarizer('...', max_length=50)\n",
      " 18%|█▊        | 358/2000 [2:48:03<12:58:29, 28.45s/it]Your max_length is set to 200, but you input_length is only 188. You might consider decreasing max_length manually, e.g. summarizer('...', max_length=50)\n",
      " 18%|█▊        | 360/2000 [2:49:00<12:52:29, 28.26s/it]Your max_length is set to 200, but you input_length is only 123. You might consider decreasing max_length manually, e.g. summarizer('...', max_length=50)\n",
      " 18%|█▊        | 361/2000 [2:49:23<12:14:00, 26.87s/it]Your max_length is set to 200, but you input_length is only 100. You might consider decreasing max_length manually, e.g. summarizer('...', max_length=50)\n",
      " 18%|█▊        | 365/2000 [2:51:05<12:04:21, 26.58s/it]Your max_length is set to 200, but you input_length is only 129. You might consider decreasing max_length manually, e.g. summarizer('...', max_length=50)\n",
      " 19%|█▉        | 375/2000 [2:55:21<13:10:30, 29.19s/it]Your max_length is set to 200, but you input_length is only 44. You might consider decreasing max_length manually, e.g. summarizer('...', max_length=50)\n",
      " 19%|█▉        | 384/2000 [2:59:02<11:00:42, 24.53s/it]Your max_length is set to 200, but you input_length is only 173. You might consider decreasing max_length manually, e.g. summarizer('...', max_length=50)\n",
      " 19%|█▉        | 386/2000 [2:59:40<9:49:55, 21.93s/it] Your max_length is set to 200, but you input_length is only 82. You might consider decreasing max_length manually, e.g. summarizer('...', max_length=50)\n",
      " 19%|█▉        | 389/2000 [3:00:57<11:18:41, 25.28s/it]Your max_length is set to 200, but you input_length is only 130. You might consider decreasing max_length manually, e.g. summarizer('...', max_length=50)\n",
      " 20%|█▉        | 390/2000 [3:01:17<10:34:01, 23.63s/it]Your max_length is set to 200, but you input_length is only 173. You might consider decreasing max_length manually, e.g. summarizer('...', max_length=50)\n",
      " 20%|██        | 406/2000 [3:08:22<11:36:17, 26.21s/it]Your max_length is set to 200, but you input_length is only 120. You might consider decreasing max_length manually, e.g. summarizer('...', max_length=50)\n",
      " 21%|██        | 414/2000 [3:11:36<10:43:43, 24.35s/it]Your max_length is set to 200, but you input_length is only 176. You might consider decreasing max_length manually, e.g. summarizer('...', max_length=50)\n",
      " 21%|██        | 417/2000 [3:13:04<11:59:00, 27.25s/it]Your max_length is set to 200, but you input_length is only 183. You might consider decreasing max_length manually, e.g. summarizer('...', max_length=50)\n",
      " 21%|██        | 421/2000 [3:14:41<10:47:26, 24.60s/it]Your max_length is set to 200, but you input_length is only 166. You might consider decreasing max_length manually, e.g. summarizer('...', max_length=50)\n",
      " 21%|██        | 422/2000 [3:15:01<10:08:26, 23.13s/it]Your max_length is set to 200, but you input_length is only 148. You might consider decreasing max_length manually, e.g. summarizer('...', max_length=50)\n",
      " 22%|██▏       | 442/2000 [3:24:02<11:07:29, 25.71s/it]Your max_length is set to 200, but you input_length is only 109. You might consider decreasing max_length manually, e.g. summarizer('...', max_length=50)\n",
      " 22%|██▏       | 447/2000 [3:26:10<11:20:28, 26.29s/it]Your max_length is set to 200, but you input_length is only 112. You might consider decreasing max_length manually, e.g. summarizer('...', max_length=50)\n",
      " 22%|██▏       | 449/2000 [3:27:14<12:58:24, 30.11s/it]Your max_length is set to 200, but you input_length is only 179. You might consider decreasing max_length manually, e.g. summarizer('...', max_length=50)\n",
      " 23%|██▎       | 453/2000 [3:28:35<9:47:40, 22.79s/it] Your max_length is set to 200, but you input_length is only 196. You might consider decreasing max_length manually, e.g. summarizer('...', max_length=50)\n",
      " 23%|██▎       | 459/2000 [3:31:18<11:04:42, 25.88s/it]Your max_length is set to 200, but you input_length is only 156. You might consider decreasing max_length manually, e.g. summarizer('...', max_length=50)\n",
      " 23%|██▎       | 462/2000 [3:32:35<11:18:08, 26.46s/it]Your max_length is set to 200, but you input_length is only 150. You might consider decreasing max_length manually, e.g. summarizer('...', max_length=50)\n",
      " 23%|██▎       | 466/2000 [3:34:13<10:40:41, 25.06s/it]Your max_length is set to 200, but you input_length is only 191. You might consider decreasing max_length manually, e.g. summarizer('...', max_length=50)\n",
      " 23%|██▎       | 468/2000 [3:35:17<12:36:56, 29.65s/it]Your max_length is set to 200, but you input_length is only 148. You might consider decreasing max_length manually, e.g. summarizer('...', max_length=50)\n",
      " 24%|██▎       | 470/2000 [3:36:07<11:38:23, 27.39s/it]Your max_length is set to 200, but you input_length is only 63. You might consider decreasing max_length manually, e.g. summarizer('...', max_length=50)\n",
      " 24%|██▎       | 474/2000 [3:37:44<10:28:25, 24.71s/it]Your max_length is set to 200, but you input_length is only 183. You might consider decreasing max_length manually, e.g. summarizer('...', max_length=50)\n",
      " 24%|██▍       | 478/2000 [3:39:35<11:24:29, 26.98s/it]Your max_length is set to 200, but you input_length is only 148. You might consider decreasing max_length manually, e.g. summarizer('...', max_length=50)\n",
      " 24%|██▍       | 481/2000 [3:40:51<11:09:06, 26.43s/it]Your max_length is set to 200, but you input_length is only 196. You might consider decreasing max_length manually, e.g. summarizer('...', max_length=50)\n",
      " 24%|██▍       | 489/2000 [3:44:19<11:27:03, 27.28s/it]Your max_length is set to 200, but you input_length is only 28. You might consider decreasing max_length manually, e.g. summarizer('...', max_length=50)\n",
      " 25%|██▍       | 492/2000 [3:45:24<10:05:37, 24.10s/it]Your max_length is set to 200, but you input_length is only 170. You might consider decreasing max_length manually, e.g. summarizer('...', max_length=50)\n",
      " 25%|██▍       | 496/2000 [3:46:58<10:02:57, 24.05s/it]Your max_length is set to 200, but you input_length is only 164. You might consider decreasing max_length manually, e.g. summarizer('...', max_length=50)\n",
      " 25%|██▍       | 499/2000 [3:48:18<10:57:25, 26.28s/it]Your max_length is set to 200, but you input_length is only 92. You might consider decreasing max_length manually, e.g. summarizer('...', max_length=50)\n",
      " 26%|██▌       | 510/2000 [3:53:01<10:39:03, 25.73s/it]Your max_length is set to 200, but you input_length is only 112. You might consider decreasing max_length manually, e.g. summarizer('...', max_length=50)\n",
      " 26%|██▌       | 520/2000 [3:57:07<9:53:32, 24.06s/it] Your max_length is set to 200, but you input_length is only 130. You might consider decreasing max_length manually, e.g. summarizer('...', max_length=50)\n",
      " 26%|██▌       | 523/2000 [3:58:30<10:48:26, 26.34s/it]Your max_length is set to 200, but you input_length is only 38. You might consider decreasing max_length manually, e.g. summarizer('...', max_length=50)\n",
      " 26%|██▋       | 530/2000 [4:01:21<10:02:35, 24.60s/it]Your max_length is set to 200, but you input_length is only 149. You might consider decreasing max_length manually, e.g. summarizer('...', max_length=50)\n",
      " 27%|██▋       | 533/2000 [4:02:36<10:15:16, 25.16s/it]Your max_length is set to 200, but you input_length is only 54. You might consider decreasing max_length manually, e.g. summarizer('...', max_length=50)\n",
      " 27%|██▋       | 535/2000 [4:03:26<10:31:35, 25.87s/it]Your max_length is set to 200, but you input_length is only 166. You might consider decreasing max_length manually, e.g. summarizer('...', max_length=50)\n",
      " 27%|██▋       | 539/2000 [4:05:22<12:03:21, 29.71s/it]Your max_length is set to 200, but you input_length is only 119. You might consider decreasing max_length manually, e.g. summarizer('...', max_length=50)\n",
      " 27%|██▋       | 540/2000 [4:05:52<12:00:55, 29.63s/it]Your max_length is set to 200, but you input_length is only 165. You might consider decreasing max_length manually, e.g. summarizer('...', max_length=50)\n",
      " 28%|██▊       | 551/2000 [4:10:46<11:31:07, 28.62s/it]Your max_length is set to 200, but you input_length is only 122. You might consider decreasing max_length manually, e.g. summarizer('...', max_length=50)\n",
      " 28%|██▊       | 554/2000 [4:12:54<16:15:37, 40.48s/it]Your max_length is set to 200, but you input_length is only 197. You might consider decreasing max_length manually, e.g. summarizer('...', max_length=50)\n",
      " 28%|██▊       | 556/2000 [4:13:56<14:19:30, 35.71s/it]Your max_length is set to 200, but you input_length is only 199. You might consider decreasing max_length manually, e.g. summarizer('...', max_length=50)\n",
      " 28%|██▊       | 559/2000 [4:16:02<16:28:23, 41.15s/it]Your max_length is set to 200, but you input_length is only 131. You might consider decreasing max_length manually, e.g. summarizer('...', max_length=50)\n",
      " 29%|██▉       | 578/2000 [4:25:13<12:12:46, 30.92s/it]Your max_length is set to 200, but you input_length is only 56. You might consider decreasing max_length manually, e.g. summarizer('...', max_length=50)\n",
      " 29%|██▉       | 579/2000 [4:25:34<10:57:03, 27.74s/it]Your max_length is set to 200, but you input_length is only 111. You might consider decreasing max_length manually, e.g. summarizer('...', max_length=50)\n",
      " 29%|██▉       | 585/2000 [4:28:14<10:22:18, 26.39s/it]Your max_length is set to 200, but you input_length is only 140. You might consider decreasing max_length manually, e.g. summarizer('...', max_length=50)\n",
      " 29%|██▉       | 587/2000 [4:29:05<10:13:49, 26.06s/it]Your max_length is set to 200, but you input_length is only 62. You might consider decreasing max_length manually, e.g. summarizer('...', max_length=50)\n",
      " 30%|██▉       | 595/2000 [4:33:25<12:48:35, 32.82s/it]Your max_length is set to 200, but you input_length is only 151. You might consider decreasing max_length manually, e.g. summarizer('...', max_length=50)\n",
      " 30%|██▉       | 599/2000 [4:35:35<12:24:45, 31.90s/it]Your max_length is set to 200, but you input_length is only 191. You might consider decreasing max_length manually, e.g. summarizer('...', max_length=50)\n",
      " 30%|███       | 600/2000 [4:36:00<11:31:47, 29.65s/it]Your max_length is set to 200, but you input_length is only 149. You might consider decreasing max_length manually, e.g. summarizer('...', max_length=50)\n",
      " 30%|███       | 601/2000 [4:36:20<10:29:08, 26.98s/it]Your max_length is set to 200, but you input_length is only 185. You might consider decreasing max_length manually, e.g. summarizer('...', max_length=50)\n",
      " 30%|███       | 609/2000 [4:40:16<12:05:22, 31.29s/it]Your max_length is set to 200, but you input_length is only 178. You might consider decreasing max_length manually, e.g. summarizer('...', max_length=50)\n",
      " 31%|███       | 611/2000 [4:41:13<11:35:21, 30.04s/it]Your max_length is set to 200, but you input_length is only 197. You might consider decreasing max_length manually, e.g. summarizer('...', max_length=50)\n",
      " 31%|███       | 619/2000 [4:45:42<12:53:03, 33.59s/it]Your max_length is set to 200, but you input_length is only 169. You might consider decreasing max_length manually, e.g. summarizer('...', max_length=50)\n",
      " 31%|███▏      | 626/2000 [4:49:40<14:39:50, 38.42s/it]Your max_length is set to 200, but you input_length is only 123. You might consider decreasing max_length manually, e.g. summarizer('...', max_length=50)\n",
      " 31%|███▏      | 629/2000 [4:50:58<11:50:31, 31.09s/it]Your min_length is set to 50, but you input_length is only 21. You might consider decreasing min_length manually, e.g. summarizer('...', min_length=10)\n",
      "Your max_length is set to 200, but you input_length is only 21. You might consider decreasing max_length manually, e.g. summarizer('...', max_length=50)\n"
     ]
    },
    {
     "name": "stderr",
     "output_type": "stream",
     "text": [
      " 32%|███▏      | 632/2000 [4:52:21<11:24:08, 30.01s/it]Your max_length is set to 200, but you input_length is only 188. You might consider decreasing max_length manually, e.g. summarizer('...', max_length=50)\n",
      " 32%|███▏      | 634/2000 [4:53:41<13:49:22, 36.43s/it]Your max_length is set to 200, but you input_length is only 169. You might consider decreasing max_length manually, e.g. summarizer('...', max_length=50)\n",
      " 32%|███▏      | 641/2000 [4:56:52<11:28:45, 30.41s/it]Your max_length is set to 200, but you input_length is only 161. You might consider decreasing max_length manually, e.g. summarizer('...', max_length=50)\n",
      " 32%|███▏      | 644/2000 [4:58:16<11:08:02, 29.56s/it]Your max_length is set to 200, but you input_length is only 116. You might consider decreasing max_length manually, e.g. summarizer('...', max_length=50)\n",
      " 33%|███▎      | 665/2000 [5:08:48<9:25:39, 25.42s/it] Your max_length is set to 200, but you input_length is only 131. You might consider decreasing max_length manually, e.g. summarizer('...', max_length=50)\n",
      " 33%|███▎      | 667/2000 [5:09:27<8:17:08, 22.38s/it]Your max_length is set to 200, but you input_length is only 81. You might consider decreasing max_length manually, e.g. summarizer('...', max_length=50)\n",
      " 34%|███▎      | 672/2000 [5:11:36<9:20:28, 25.32s/it]Your max_length is set to 200, but you input_length is only 183. You might consider decreasing max_length manually, e.g. summarizer('...', max_length=50)\n",
      " 34%|███▎      | 673/2000 [5:11:56<8:47:57, 23.87s/it]Your max_length is set to 200, but you input_length is only 129. You might consider decreasing max_length manually, e.g. summarizer('...', max_length=50)\n",
      " 34%|███▍      | 678/2000 [5:14:10<10:09:35, 27.67s/it]Your max_length is set to 200, but you input_length is only 176. You might consider decreasing max_length manually, e.g. summarizer('...', max_length=50)\n",
      " 34%|███▍      | 679/2000 [5:14:35<9:49:19, 26.77s/it] Your max_length is set to 200, but you input_length is only 171. You might consider decreasing max_length manually, e.g. summarizer('...', max_length=50)\n",
      " 34%|███▍      | 685/2000 [5:17:45<12:04:03, 33.04s/it]Your max_length is set to 200, but you input_length is only 96. You might consider decreasing max_length manually, e.g. summarizer('...', max_length=50)\n",
      " 35%|███▍      | 693/2000 [5:21:24<10:45:13, 29.62s/it]Your max_length is set to 200, but you input_length is only 136. You might consider decreasing max_length manually, e.g. summarizer('...', max_length=50)\n",
      " 35%|███▍      | 695/2000 [5:22:06<9:14:39, 25.50s/it] Your max_length is set to 200, but you input_length is only 199. You might consider decreasing max_length manually, e.g. summarizer('...', max_length=50)\n",
      " 35%|███▌      | 705/2000 [5:26:06<9:11:05, 25.53s/it]Your max_length is set to 200, but you input_length is only 195. You might consider decreasing max_length manually, e.g. summarizer('...', max_length=50)\n",
      " 35%|███▌      | 709/2000 [5:28:04<10:42:07, 29.84s/it]Your max_length is set to 200, but you input_length is only 102. You might consider decreasing max_length manually, e.g. summarizer('...', max_length=50)\n",
      " 36%|███▌      | 712/2000 [5:29:06<8:42:21, 24.33s/it] Your max_length is set to 200, but you input_length is only 28. You might consider decreasing max_length manually, e.g. summarizer('...', max_length=50)\n",
      " 36%|███▌      | 713/2000 [5:29:22<7:48:20, 21.83s/it]Your max_length is set to 200, but you input_length is only 145. You might consider decreasing max_length manually, e.g. summarizer('...', max_length=50)\n",
      " 36%|███▌      | 714/2000 [5:29:49<8:21:46, 23.41s/it]Your max_length is set to 200, but you input_length is only 162. You might consider decreasing max_length manually, e.g. summarizer('...', max_length=50)\n",
      " 36%|███▌      | 717/2000 [5:31:07<8:59:41, 25.24s/it]Your max_length is set to 200, but you input_length is only 199. You might consider decreasing max_length manually, e.g. summarizer('...', max_length=50)\n",
      " 36%|███▋      | 725/2000 [5:34:41<9:41:39, 27.37s/it] Your max_length is set to 200, but you input_length is only 136. You might consider decreasing max_length manually, e.g. summarizer('...', max_length=50)\n",
      " 36%|███▋      | 727/2000 [5:35:43<10:41:23, 30.23s/it]Your max_length is set to 200, but you input_length is only 145. You might consider decreasing max_length manually, e.g. summarizer('...', max_length=50)\n",
      " 36%|███▋      | 728/2000 [5:36:06<9:52:30, 27.95s/it] Your max_length is set to 200, but you input_length is only 99. You might consider decreasing max_length manually, e.g. summarizer('...', max_length=50)\n",
      " 37%|███▋      | 737/2000 [5:40:01<8:59:03, 25.61s/it] Your max_length is set to 200, but you input_length is only 191. You might consider decreasing max_length manually, e.g. summarizer('...', max_length=50)\n",
      " 37%|███▋      | 744/2000 [5:43:11<9:19:05, 26.71s/it] Your max_length is set to 200, but you input_length is only 128. You might consider decreasing max_length manually, e.g. summarizer('...', max_length=50)\n",
      " 37%|███▋      | 745/2000 [5:43:31<8:36:27, 24.69s/it]Your max_length is set to 200, but you input_length is only 146. You might consider decreasing max_length manually, e.g. summarizer('...', max_length=50)\n",
      " 37%|███▋      | 747/2000 [5:44:25<9:11:06, 26.39s/it]Your max_length is set to 200, but you input_length is only 82. You might consider decreasing max_length manually, e.g. summarizer('...', max_length=50)\n",
      " 37%|███▋      | 748/2000 [5:44:51<9:09:30, 26.33s/it]Your max_length is set to 200, but you input_length is only 153. You might consider decreasing max_length manually, e.g. summarizer('...', max_length=50)\n",
      " 38%|███▊      | 753/2000 [5:46:59<9:15:52, 26.75s/it]Your max_length is set to 200, but you input_length is only 180. You might consider decreasing max_length manually, e.g. summarizer('...', max_length=50)\n",
      " 38%|███▊      | 754/2000 [5:47:16<8:19:54, 24.07s/it]Your max_length is set to 200, but you input_length is only 115. You might consider decreasing max_length manually, e.g. summarizer('...', max_length=50)\n",
      " 38%|███▊      | 757/2000 [5:48:24<8:09:17, 23.62s/it]Your max_length is set to 200, but you input_length is only 72. You might consider decreasing max_length manually, e.g. summarizer('...', max_length=50)\n",
      " 38%|███▊      | 759/2000 [5:49:07<7:51:01, 22.77s/it]Your max_length is set to 200, but you input_length is only 162. You might consider decreasing max_length manually, e.g. summarizer('...', max_length=50)\n",
      " 38%|███▊      | 762/2000 [5:50:14<7:55:58, 23.07s/it]Your max_length is set to 200, but you input_length is only 126. You might consider decreasing max_length manually, e.g. summarizer('...', max_length=50)\n",
      " 38%|███▊      | 765/2000 [5:51:22<7:51:33, 22.91s/it]Your max_length is set to 200, but you input_length is only 164. You might consider decreasing max_length manually, e.g. summarizer('...', max_length=50)\n",
      " 39%|███▉      | 777/2000 [5:57:22<10:43:47, 31.58s/it]Your max_length is set to 200, but you input_length is only 157. You might consider decreasing max_length manually, e.g. summarizer('...', max_length=50)\n",
      " 39%|███▉      | 778/2000 [5:57:46<9:58:48, 29.40s/it] Your max_length is set to 200, but you input_length is only 163. You might consider decreasing max_length manually, e.g. summarizer('...', max_length=50)\n",
      " 39%|███▉      | 782/2000 [5:59:26<8:51:48, 26.20s/it]Your max_length is set to 200, but you input_length is only 125. You might consider decreasing max_length manually, e.g. summarizer('...', max_length=50)\n",
      " 39%|███▉      | 785/2000 [6:00:28<7:39:12, 22.68s/it]Your max_length is set to 200, but you input_length is only 50. You might consider decreasing max_length manually, e.g. summarizer('...', max_length=50)\n",
      " 39%|███▉      | 786/2000 [6:00:44<6:57:44, 20.65s/it]Your max_length is set to 200, but you input_length is only 134. You might consider decreasing max_length manually, e.g. summarizer('...', max_length=50)\n",
      " 39%|███▉      | 789/2000 [6:01:45<6:56:40, 20.64s/it]Your max_length is set to 200, but you input_length is only 39. You might consider decreasing max_length manually, e.g. summarizer('...', max_length=50)\n",
      " 40%|███▉      | 790/2000 [6:02:04<6:45:59, 20.13s/it]Your max_length is set to 200, but you input_length is only 78. You might consider decreasing max_length manually, e.g. summarizer('...', max_length=50)\n"
     ]
    },
    {
     "name": "stderr",
     "output_type": "stream",
     "text": [
      " 40%|███▉      | 796/2000 [6:04:45<8:57:53, 26.81s/it]Your max_length is set to 200, but you input_length is only 190. You might consider decreasing max_length manually, e.g. summarizer('...', max_length=50)\n",
      " 40%|████      | 805/2000 [6:10:10<12:05:43, 36.44s/it]Your max_length is set to 200, but you input_length is only 148. You might consider decreasing max_length manually, e.g. summarizer('...', max_length=50)\n",
      " 40%|████      | 810/2000 [6:12:08<8:58:04, 27.13s/it] Your max_length is set to 200, but you input_length is only 152. You might consider decreasing max_length manually, e.g. summarizer('...', max_length=50)\n",
      " 41%|████      | 821/2000 [6:16:59<8:09:45, 24.92s/it]Your max_length is set to 200, but you input_length is only 167. You might consider decreasing max_length manually, e.g. summarizer('...', max_length=50)\n",
      " 41%|████▏     | 825/2000 [6:19:01<9:29:00, 29.06s/it]Your max_length is set to 200, but you input_length is only 195. You might consider decreasing max_length manually, e.g. summarizer('...', max_length=50)\n",
      " 41%|████▏     | 829/2000 [6:20:40<8:13:24, 25.28s/it]Your max_length is set to 200, but you input_length is only 168. You might consider decreasing max_length manually, e.g. summarizer('...', max_length=50)\n",
      " 42%|████▏     | 832/2000 [6:21:44<7:14:50, 22.34s/it]Your max_length is set to 200, but you input_length is only 179. You might consider decreasing max_length manually, e.g. summarizer('...', max_length=50)\n",
      " 42%|████▏     | 837/2000 [6:23:35<7:16:47, 22.53s/it]Your max_length is set to 200, but you input_length is only 193. You might consider decreasing max_length manually, e.g. summarizer('...', max_length=50)\n",
      " 42%|████▏     | 848/2000 [6:28:32<8:34:49, 26.81s/it]Your max_length is set to 200, but you input_length is only 66. You might consider decreasing max_length manually, e.g. summarizer('...', max_length=50)\n",
      " 43%|████▎     | 860/2000 [6:33:37<9:17:44, 29.35s/it]Your max_length is set to 200, but you input_length is only 190. You might consider decreasing max_length manually, e.g. summarizer('...', max_length=50)\n",
      " 44%|████▎     | 872/2000 [6:38:34<7:47:19, 24.86s/it]Your max_length is set to 200, but you input_length is only 159. You might consider decreasing max_length manually, e.g. summarizer('...', max_length=50)\n",
      " 44%|████▍     | 884/2000 [6:44:20<8:06:15, 26.14s/it] Your max_length is set to 200, but you input_length is only 134. You might consider decreasing max_length manually, e.g. summarizer('...', max_length=50)\n",
      " 45%|████▍     | 895/2000 [6:49:12<7:35:37, 24.74s/it]Your max_length is set to 200, but you input_length is only 79. You might consider decreasing max_length manually, e.g. summarizer('...', max_length=50)\n",
      " 45%|████▍     | 896/2000 [6:49:32<7:11:04, 23.43s/it]Your max_length is set to 200, but you input_length is only 149. You might consider decreasing max_length manually, e.g. summarizer('...', max_length=50)\n",
      " 45%|████▌     | 905/2000 [6:53:07<6:54:55, 22.74s/it]Your max_length is set to 200, but you input_length is only 185. You might consider decreasing max_length manually, e.g. summarizer('...', max_length=50)\n",
      " 45%|████▌     | 908/2000 [6:54:18<7:12:32, 23.77s/it]Your max_length is set to 200, but you input_length is only 160. You might consider decreasing max_length manually, e.g. summarizer('...', max_length=50)\n",
      " 45%|████▌     | 909/2000 [6:54:40<7:02:25, 23.23s/it]Your max_length is set to 200, but you input_length is only 160. You might consider decreasing max_length manually, e.g. summarizer('...', max_length=50)\n",
      " 46%|████▌     | 910/2000 [6:55:07<7:19:54, 24.21s/it]Your max_length is set to 200, but you input_length is only 132. You might consider decreasing max_length manually, e.g. summarizer('...', max_length=50)\n",
      " 46%|████▌     | 911/2000 [6:55:37<7:52:22, 26.03s/it]Your max_length is set to 200, but you input_length is only 193. You might consider decreasing max_length manually, e.g. summarizer('...', max_length=50)\n",
      " 46%|████▌     | 922/2000 [7:00:20<7:09:34, 23.91s/it]Your max_length is set to 200, but you input_length is only 51. You might consider decreasing max_length manually, e.g. summarizer('...', max_length=50)\n",
      " 46%|████▋     | 926/2000 [7:01:57<7:22:55, 24.74s/it]Your max_length is set to 200, but you input_length is only 45. You might consider decreasing max_length manually, e.g. summarizer('...', max_length=50)\n",
      " 46%|████▋     | 927/2000 [7:02:15<6:45:05, 22.65s/it]Your max_length is set to 200, but you input_length is only 188. You might consider decreasing max_length manually, e.g. summarizer('...', max_length=50)\n",
      " 47%|████▋     | 941/2000 [7:08:05<7:19:41, 24.91s/it]Your max_length is set to 200, but you input_length is only 95. You might consider decreasing max_length manually, e.g. summarizer('...', max_length=50)\n",
      " 47%|████▋     | 944/2000 [7:09:25<7:44:07, 26.37s/it]Your max_length is set to 200, but you input_length is only 196. You might consider decreasing max_length manually, e.g. summarizer('...', max_length=50)\n",
      " 47%|████▋     | 947/2000 [7:10:36<7:04:04, 24.16s/it]Your max_length is set to 200, but you input_length is only 188. You might consider decreasing max_length manually, e.g. summarizer('...', max_length=50)\n",
      " 47%|████▋     | 949/2000 [7:11:23<6:59:14, 23.93s/it]Your max_length is set to 200, but you input_length is only 163. You might consider decreasing max_length manually, e.g. summarizer('...', max_length=50)\n",
      " 48%|████▊     | 956/2000 [7:14:29<8:14:29, 28.42s/it]Your max_length is set to 200, but you input_length is only 199. You might consider decreasing max_length manually, e.g. summarizer('...', max_length=50)\n",
      " 48%|████▊     | 957/2000 [7:14:49<7:30:48, 25.93s/it]Your max_length is set to 200, but you input_length is only 145. You might consider decreasing max_length manually, e.g. summarizer('...', max_length=50)\n",
      " 48%|████▊     | 963/2000 [7:17:13<7:27:50, 25.91s/it]Your max_length is set to 200, but you input_length is only 153. You might consider decreasing max_length manually, e.g. summarizer('...', max_length=50)\n",
      " 48%|████▊     | 968/2000 [7:19:23<7:47:06, 27.16s/it]Your max_length is set to 200, but you input_length is only 192. You might consider decreasing max_length manually, e.g. summarizer('...', max_length=50)\n",
      " 48%|████▊     | 970/2000 [7:20:23<8:18:26, 29.04s/it]Your max_length is set to 200, but you input_length is only 192. You might consider decreasing max_length manually, e.g. summarizer('...', max_length=50)\n",
      " 49%|████▊     | 972/2000 [7:21:04<7:08:01, 24.98s/it]Your max_length is set to 200, but you input_length is only 197. You might consider decreasing max_length manually, e.g. summarizer('...', max_length=50)\n",
      " 49%|████▉     | 976/2000 [7:22:43<7:22:20, 25.92s/it]Your max_length is set to 200, but you input_length is only 147. You might consider decreasing max_length manually, e.g. summarizer('...', max_length=50)\n",
      " 49%|████▉     | 986/2000 [7:27:12<7:22:00, 26.15s/it]Your max_length is set to 200, but you input_length is only 189. You might consider decreasing max_length manually, e.g. summarizer('...', max_length=50)\n",
      " 49%|████▉     | 987/2000 [7:27:33<6:55:35, 24.62s/it]Your max_length is set to 200, but you input_length is only 164. You might consider decreasing max_length manually, e.g. summarizer('...', max_length=50)\n",
      " 50%|████▉     | 993/2000 [7:30:19<8:39:07, 30.93s/it]Your max_length is set to 200, but you input_length is only 128. You might consider decreasing max_length manually, e.g. summarizer('...', max_length=50)\n",
      " 50%|█████     | 1002/2000 [7:34:02<7:05:07, 25.56s/it]Your max_length is set to 200, but you input_length is only 127. You might consider decreasing max_length manually, e.g. summarizer('...', max_length=50)\n",
      " 50%|█████     | 1004/2000 [7:34:48<6:45:30, 24.43s/it]Your max_length is set to 200, but you input_length is only 169. You might consider decreasing max_length manually, e.g. summarizer('...', max_length=50)\n",
      " 50%|█████     | 1007/2000 [7:35:55<6:29:38, 23.54s/it]Your max_length is set to 200, but you input_length is only 41. You might consider decreasing max_length manually, e.g. summarizer('...', max_length=50)\n",
      " 51%|█████     | 1011/2000 [7:37:47<7:32:42, 27.46s/it]Your max_length is set to 200, but you input_length is only 91. You might consider decreasing max_length manually, e.g. summarizer('...', max_length=50)\n"
     ]
    },
    {
     "name": "stderr",
     "output_type": "stream",
     "text": [
      " 51%|█████     | 1013/2000 [7:38:35<7:03:52, 25.77s/it]Your max_length is set to 200, but you input_length is only 115. You might consider decreasing max_length manually, e.g. summarizer('...', max_length=50)\n",
      " 51%|█████     | 1015/2000 [7:39:17<6:31:23, 23.84s/it]Your max_length is set to 200, but you input_length is only 191. You might consider decreasing max_length manually, e.g. summarizer('...', max_length=50)\n",
      " 51%|█████     | 1021/2000 [7:42:46<9:15:05, 34.02s/it]Your max_length is set to 200, but you input_length is only 42. You might consider decreasing max_length manually, e.g. summarizer('...', max_length=50)\n",
      " 51%|█████     | 1022/2000 [7:43:10<8:30:03, 31.29s/it]Your max_length is set to 200, but you input_length is only 163. You might consider decreasing max_length manually, e.g. summarizer('...', max_length=50)\n",
      " 51%|█████     | 1024/2000 [7:44:00<7:47:13, 28.72s/it]Your max_length is set to 200, but you input_length is only 175. You might consider decreasing max_length manually, e.g. summarizer('...', max_length=50)\n",
      " 52%|█████▏    | 1030/2000 [7:46:32<6:56:35, 25.77s/it]Your max_length is set to 200, but you input_length is only 58. You might consider decreasing max_length manually, e.g. summarizer('...', max_length=50)\n",
      " 52%|█████▏    | 1032/2000 [7:47:19<6:45:15, 25.12s/it]Your max_length is set to 200, but you input_length is only 176. You might consider decreasing max_length manually, e.g. summarizer('...', max_length=50)\n",
      " 52%|█████▏    | 1039/2000 [7:50:38<6:58:41, 26.14s/it]Your max_length is set to 200, but you input_length is only 191. You might consider decreasing max_length manually, e.g. summarizer('...', max_length=50)\n",
      " 52%|█████▏    | 1041/2000 [7:51:27<6:47:22, 25.49s/it]Your max_length is set to 200, but you input_length is only 156. You might consider decreasing max_length manually, e.g. summarizer('...', max_length=50)\n",
      " 52%|█████▏    | 1047/2000 [7:54:01<7:11:34, 27.17s/it]Your max_length is set to 200, but you input_length is only 149. You might consider decreasing max_length manually, e.g. summarizer('...', max_length=50)\n",
      " 52%|█████▏    | 1048/2000 [7:54:24<6:52:16, 25.98s/it]Your max_length is set to 200, but you input_length is only 104. You might consider decreasing max_length manually, e.g. summarizer('...', max_length=50)\n",
      " 53%|█████▎    | 1068/2000 [8:03:32<8:07:08, 31.36s/it]Your max_length is set to 200, but you input_length is only 175. You might consider decreasing max_length manually, e.g. summarizer('...', max_length=50)\n",
      " 54%|█████▍    | 1078/2000 [8:07:48<6:45:10, 26.37s/it]Your max_length is set to 200, but you input_length is only 164. You might consider decreasing max_length manually, e.g. summarizer('...', max_length=50)\n",
      " 54%|█████▍    | 1085/2000 [8:10:54<6:45:36, 26.60s/it]Your max_length is set to 200, but you input_length is only 177. You might consider decreasing max_length manually, e.g. summarizer('...', max_length=50)\n",
      " 55%|█████▍    | 1095/2000 [8:15:05<6:58:04, 27.72s/it]Your max_length is set to 200, but you input_length is only 133. You might consider decreasing max_length manually, e.g. summarizer('...', max_length=50)\n",
      " 55%|█████▍    | 1099/2000 [8:16:47<6:25:06, 25.64s/it]Your max_length is set to 200, but you input_length is only 82. You might consider decreasing max_length manually, e.g. summarizer('...', max_length=50)\n",
      " 55%|█████▌    | 1101/2000 [8:17:34<6:07:52, 24.55s/it]Your max_length is set to 200, but you input_length is only 126. You might consider decreasing max_length manually, e.g. summarizer('...', max_length=50)\n",
      " 55%|█████▌    | 1109/2000 [8:21:06<6:52:59, 27.81s/it]Your max_length is set to 200, but you input_length is only 134. You might consider decreasing max_length manually, e.g. summarizer('...', max_length=50)\n",
      " 56%|█████▌    | 1114/2000 [8:23:09<6:26:46, 26.19s/it]Your max_length is set to 200, but you input_length is only 181. You might consider decreasing max_length manually, e.g. summarizer('...', max_length=50)\n",
      " 56%|█████▌    | 1116/2000 [8:23:56<6:05:56, 24.84s/it]Your max_length is set to 200, but you input_length is only 196. You might consider decreasing max_length manually, e.g. summarizer('...', max_length=50)\n",
      " 56%|█████▌    | 1117/2000 [8:24:21<6:06:51, 24.93s/it]Your max_length is set to 200, but you input_length is only 151. You might consider decreasing max_length manually, e.g. summarizer('...', max_length=50)\n",
      " 56%|█████▋    | 1130/2000 [8:29:41<5:49:49, 24.13s/it]Your max_length is set to 200, but you input_length is only 79. You might consider decreasing max_length manually, e.g. summarizer('...', max_length=50)\n",
      " 57%|█████▋    | 1133/2000 [8:30:58<5:57:58, 24.77s/it]Your max_length is set to 200, but you input_length is only 129. You might consider decreasing max_length manually, e.g. summarizer('...', max_length=50)\n",
      " 57%|█████▋    | 1139/2000 [8:33:32<6:05:03, 25.44s/it]Your max_length is set to 200, but you input_length is only 171. You might consider decreasing max_length manually, e.g. summarizer('...', max_length=50)\n",
      " 57%|█████▋    | 1142/2000 [8:35:03<6:45:33, 28.36s/it]Your max_length is set to 200, but you input_length is only 172. You might consider decreasing max_length manually, e.g. summarizer('...', max_length=50)\n",
      " 58%|█████▊    | 1156/2000 [8:41:33<6:13:10, 26.53s/it]Your max_length is set to 200, but you input_length is only 166. You might consider decreasing max_length manually, e.g. summarizer('...', max_length=50)\n",
      " 58%|█████▊    | 1168/2000 [8:46:30<6:34:08, 28.42s/it]Your max_length is set to 200, but you input_length is only 126. You might consider decreasing max_length manually, e.g. summarizer('...', max_length=50)\n",
      " 59%|█████▊    | 1172/2000 [8:48:15<5:57:03, 25.87s/it]Your max_length is set to 200, but you input_length is only 191. You might consider decreasing max_length manually, e.g. summarizer('...', max_length=50)\n",
      " 59%|█████▉    | 1175/2000 [8:49:40<6:28:33, 28.26s/it]Your max_length is set to 200, but you input_length is only 199. You might consider decreasing max_length manually, e.g. summarizer('...', max_length=50)\n",
      " 59%|█████▉    | 1179/2000 [8:51:25<6:06:38, 26.79s/it]Your max_length is set to 200, but you input_length is only 113. You might consider decreasing max_length manually, e.g. summarizer('...', max_length=50)\n",
      " 59%|█████▉    | 1183/2000 [8:53:19<6:24:46, 28.26s/it]Your max_length is set to 200, but you input_length is only 152. You might consider decreasing max_length manually, e.g. summarizer('...', max_length=50)\n",
      " 59%|█████▉    | 1185/2000 [8:54:08<6:02:22, 26.68s/it]Your max_length is set to 200, but you input_length is only 136. You might consider decreasing max_length manually, e.g. summarizer('...', max_length=50)\n",
      " 60%|█████▉    | 1198/2000 [9:00:22<6:37:18, 29.72s/it]Your max_length is set to 200, but you input_length is only 192. You might consider decreasing max_length manually, e.g. summarizer('...', max_length=50)\n",
      " 60%|██████    | 1201/2000 [9:01:27<5:31:09, 24.87s/it]Your max_length is set to 200, but you input_length is only 181. You might consider decreasing max_length manually, e.g. summarizer('...', max_length=50)\n",
      " 60%|██████    | 1209/2000 [9:04:41<5:13:26, 23.78s/it]Your max_length is set to 200, but you input_length is only 189. You might consider decreasing max_length manually, e.g. summarizer('...', max_length=50)\n",
      " 61%|██████    | 1214/2000 [9:06:47<5:24:40, 24.78s/it]Your max_length is set to 200, but you input_length is only 76. You might consider decreasing max_length manually, e.g. summarizer('...', max_length=50)\n",
      " 61%|██████    | 1217/2000 [9:07:56<5:09:21, 23.71s/it]Your max_length is set to 200, but you input_length is only 52. You might consider decreasing max_length manually, e.g. summarizer('...', max_length=50)\n",
      " 62%|██████▏   | 1231/2000 [9:14:09<4:39:34, 21.81s/it]Your max_length is set to 200, but you input_length is only 168. You might consider decreasing max_length manually, e.g. summarizer('...', max_length=50)\n",
      " 62%|██████▏   | 1233/2000 [9:15:14<5:51:01, 27.46s/it]Your max_length is set to 200, but you input_length is only 140. You might consider decreasing max_length manually, e.g. summarizer('...', max_length=50)\n",
      " 62%|██████▏   | 1239/2000 [9:18:07<6:36:50, 31.29s/it]Your max_length is set to 200, but you input_length is only 125. You might consider decreasing max_length manually, e.g. summarizer('...', max_length=50)\n",
      " 62%|██████▏   | 1243/2000 [9:19:43<5:33:45, 26.45s/it]Your max_length is set to 200, but you input_length is only 159. You might consider decreasing max_length manually, e.g. summarizer('...', max_length=50)\n",
      " 62%|██████▏   | 1244/2000 [9:20:02<5:05:06, 24.22s/it]Your max_length is set to 200, but you input_length is only 195. You might consider decreasing max_length manually, e.g. summarizer('...', max_length=50)\n",
      " 62%|██████▏   | 1249/2000 [9:22:27<5:58:37, 28.65s/it]Your max_length is set to 200, but you input_length is only 173. You might consider decreasing max_length manually, e.g. summarizer('...', max_length=50)\n",
      " 63%|██████▎   | 1254/2000 [9:24:27<5:23:14, 26.00s/it]Your max_length is set to 200, but you input_length is only 79. You might consider decreasing max_length manually, e.g. summarizer('...', max_length=50)\n",
      " 63%|██████▎   | 1269/2000 [9:31:11<5:58:53, 29.46s/it]Your max_length is set to 200, but you input_length is only 158. You might consider decreasing max_length manually, e.g. summarizer('...', max_length=50)\n",
      " 64%|██████▍   | 1277/2000 [9:34:22<4:33:15, 22.68s/it]Your max_length is set to 200, but you input_length is only 165. You might consider decreasing max_length manually, e.g. summarizer('...', max_length=50)\n",
      " 64%|██████▍   | 1280/2000 [9:35:36<4:46:02, 23.84s/it]Your max_length is set to 200, but you input_length is only 186. You might consider decreasing max_length manually, e.g. summarizer('...', max_length=50)\n",
      " 64%|██████▍   | 1282/2000 [9:36:20<4:40:40, 23.46s/it]Your max_length is set to 200, but you input_length is only 95. You might consider decreasing max_length manually, e.g. summarizer('...', max_length=50)\n",
      " 64%|██████▍   | 1284/2000 [9:37:06<4:37:06, 23.22s/it]Your max_length is set to 200, but you input_length is only 197. You might consider decreasing max_length manually, e.g. summarizer('...', max_length=50)\n",
      " 64%|██████▍   | 1288/2000 [9:39:24<6:23:48, 32.34s/it]Your max_length is set to 200, but you input_length is only 192. You might consider decreasing max_length manually, e.g. summarizer('...', max_length=50)\n",
      " 65%|██████▍   | 1297/2000 [9:43:20<5:03:19, 25.89s/it]Your max_length is set to 200, but you input_length is only 148. You might consider decreasing max_length manually, e.g. summarizer('...', max_length=50)\n",
      " 65%|██████▌   | 1301/2000 [9:45:08<5:06:54, 26.34s/it]Your max_length is set to 200, but you input_length is only 123. You might consider decreasing max_length manually, e.g. summarizer('...', max_length=50)\n",
      " 66%|██████▌   | 1317/2000 [9:52:27<4:51:40, 25.62s/it]Your max_length is set to 200, but you input_length is only 116. You might consider decreasing max_length manually, e.g. summarizer('...', max_length=50)\n",
      " 66%|██████▌   | 1319/2000 [9:53:19<4:58:51, 26.33s/it]Your max_length is set to 200, but you input_length is only 144. You might consider decreasing max_length manually, e.g. summarizer('...', max_length=50)\n",
      " 66%|██████▋   | 1330/2000 [9:58:44<4:54:08, 26.34s/it]Your max_length is set to 200, but you input_length is only 132. You might consider decreasing max_length manually, e.g. summarizer('...', max_length=50)\n",
      " 67%|██████▋   | 1333/2000 [10:00:06<5:19:00, 28.70s/it]Your max_length is set to 200, but you input_length is only 163. You might consider decreasing max_length manually, e.g. summarizer('...', max_length=50)\n",
      " 67%|██████▋   | 1343/2000 [10:04:21<5:09:14, 28.24s/it]Your max_length is set to 200, but you input_length is only 124. You might consider decreasing max_length manually, e.g. summarizer('...', max_length=50)\n",
      " 68%|██████▊   | 1366/2000 [10:14:55<5:06:05, 28.97s/it]Your max_length is set to 200, but you input_length is only 199. You might consider decreasing max_length manually, e.g. summarizer('...', max_length=50)\n",
      " 69%|██████▉   | 1376/2000 [10:19:12<4:58:40, 28.72s/it]Your max_length is set to 200, but you input_length is only 187. You might consider decreasing max_length manually, e.g. summarizer('...', max_length=50)\n",
      " 69%|██████▉   | 1379/2000 [10:20:26<4:26:09, 25.72s/it]Your max_length is set to 200, but you input_length is only 180. You might consider decreasing max_length manually, e.g. summarizer('...', max_length=50)\n",
      " 69%|██████▉   | 1383/2000 [10:22:03<4:18:32, 25.14s/it]Your max_length is set to 200, but you input_length is only 48. You might consider decreasing max_length manually, e.g. summarizer('...', max_length=50)\n",
      " 69%|██████▉   | 1388/2000 [10:24:49<5:47:41, 34.09s/it]Your max_length is set to 200, but you input_length is only 195. You might consider decreasing max_length manually, e.g. summarizer('...', max_length=50)\n",
      " 70%|██████▉   | 1391/2000 [10:26:16<5:14:23, 30.97s/it]Your max_length is set to 200, but you input_length is only 162. You might consider decreasing max_length manually, e.g. summarizer('...', max_length=50)\n",
      " 70%|███████   | 1400/2000 [10:30:25<4:31:11, 27.12s/it]Your max_length is set to 200, but you input_length is only 191. You might consider decreasing max_length manually, e.g. summarizer('...', max_length=50)\n",
      " 70%|███████   | 1402/2000 [10:31:22<4:35:53, 27.68s/it]Your max_length is set to 200, but you input_length is only 164. You might consider decreasing max_length manually, e.g. summarizer('...', max_length=50)\n",
      " 71%|███████   | 1411/2000 [10:35:08<4:23:07, 26.80s/it]Your max_length is set to 200, but you input_length is only 138. You might consider decreasing max_length manually, e.g. summarizer('...', max_length=50)\n",
      " 71%|███████   | 1420/2000 [10:39:36<5:09:59, 32.07s/it]Your max_length is set to 200, but you input_length is only 186. You might consider decreasing max_length manually, e.g. summarizer('...', max_length=50)\n",
      " 71%|███████   | 1421/2000 [10:40:06<5:01:59, 31.30s/it]Your max_length is set to 200, but you input_length is only 59. You might consider decreasing max_length manually, e.g. summarizer('...', max_length=50)\n",
      " 71%|███████▏  | 1427/2000 [10:42:25<3:52:54, 24.39s/it]Your max_length is set to 200, but you input_length is only 150. You might consider decreasing max_length manually, e.g. summarizer('...', max_length=50)\n",
      " 72%|███████▏  | 1432/2000 [10:44:35<4:11:08, 26.53s/it]Your max_length is set to 200, but you input_length is only 72. You might consider decreasing max_length manually, e.g. summarizer('...', max_length=50)\n",
      " 72%|███████▏  | 1436/2000 [10:46:27<4:31:19, 28.86s/it]Your max_length is set to 200, but you input_length is only 196. You might consider decreasing max_length manually, e.g. summarizer('...', max_length=50)\n",
      " 72%|███████▏  | 1437/2000 [10:46:46<4:03:05, 25.91s/it]Your max_length is set to 200, but you input_length is only 174. You might consider decreasing max_length manually, e.g. summarizer('...', max_length=50)\n",
      " 72%|███████▏  | 1440/2000 [10:47:52<3:41:08, 23.69s/it]Your max_length is set to 200, but you input_length is only 177. You might consider decreasing max_length manually, e.g. summarizer('...', max_length=50)\n",
      " 72%|███████▏  | 1445/2000 [10:50:05<3:51:00, 24.97s/it]Your max_length is set to 200, but you input_length is only 94. You might consider decreasing max_length manually, e.g. summarizer('...', max_length=50)\n",
      " 72%|███████▏  | 1446/2000 [10:50:25<3:34:57, 23.28s/it]Your max_length is set to 200, but you input_length is only 184. You might consider decreasing max_length manually, e.g. summarizer('...', max_length=50)\n",
      " 72%|███████▏  | 1447/2000 [10:50:43<3:21:02, 21.81s/it]Your max_length is set to 200, but you input_length is only 97. You might consider decreasing max_length manually, e.g. summarizer('...', max_length=50)\n",
      " 72%|███████▏  | 1449/2000 [10:51:26<3:20:46, 21.86s/it]Your max_length is set to 200, but you input_length is only 191. You might consider decreasing max_length manually, e.g. summarizer('...', max_length=50)\n",
      " 72%|███████▎  | 1450/2000 [10:51:54<3:37:56, 23.78s/it]Your max_length is set to 200, but you input_length is only 197. You might consider decreasing max_length manually, e.g. summarizer('...', max_length=50)\n"
     ]
    },
    {
     "name": "stderr",
     "output_type": "stream",
     "text": [
      " 73%|███████▎  | 1455/2000 [10:53:57<3:47:49, 25.08s/it]Your max_length is set to 200, but you input_length is only 90. You might consider decreasing max_length manually, e.g. summarizer('...', max_length=50)\n",
      " 73%|███████▎  | 1457/2000 [10:54:44<3:45:48, 24.95s/it]Your max_length is set to 200, but you input_length is only 82. You might consider decreasing max_length manually, e.g. summarizer('...', max_length=50)\n",
      " 73%|███████▎  | 1459/2000 [10:55:32<3:43:48, 24.82s/it]Your max_length is set to 200, but you input_length is only 199. You might consider decreasing max_length manually, e.g. summarizer('...', max_length=50)\n",
      " 73%|███████▎  | 1461/2000 [10:56:25<3:51:20, 25.75s/it]Your max_length is set to 200, but you input_length is only 179. You might consider decreasing max_length manually, e.g. summarizer('...', max_length=50)\n",
      " 73%|███████▎  | 1463/2000 [10:57:16<3:53:58, 26.14s/it]Your max_length is set to 200, but you input_length is only 123. You might consider decreasing max_length manually, e.g. summarizer('...', max_length=50)\n",
      " 73%|███████▎  | 1464/2000 [10:57:33<3:29:20, 23.43s/it]Your max_length is set to 200, but you input_length is only 159. You might consider decreasing max_length manually, e.g. summarizer('...', max_length=50)\n",
      " 73%|███████▎  | 1467/2000 [10:58:59<4:06:13, 27.72s/it]Your max_length is set to 200, but you input_length is only 101. You might consider decreasing max_length manually, e.g. summarizer('...', max_length=50)\n",
      " 74%|███████▎  | 1471/2000 [11:01:34<5:38:47, 38.43s/it]Your max_length is set to 200, but you input_length is only 139. You might consider decreasing max_length manually, e.g. summarizer('...', max_length=50)\n",
      " 74%|███████▍  | 1480/2000 [11:04:51<3:19:29, 23.02s/it]Your max_length is set to 200, but you input_length is only 91. You might consider decreasing max_length manually, e.g. summarizer('...', max_length=50)\n",
      " 74%|███████▍  | 1483/2000 [11:05:54<3:06:43, 21.67s/it]Your max_length is set to 200, but you input_length is only 139. You might consider decreasing max_length manually, e.g. summarizer('...', max_length=50)\n",
      " 74%|███████▍  | 1487/2000 [11:07:33<3:36:15, 25.29s/it]Your max_length is set to 200, but you input_length is only 173. You might consider decreasing max_length manually, e.g. summarizer('...', max_length=50)\n",
      " 75%|███████▍  | 1494/2000 [11:10:22<3:36:02, 25.62s/it]Your max_length is set to 200, but you input_length is only 196. You might consider decreasing max_length manually, e.g. summarizer('...', max_length=50)\n",
      " 75%|███████▍  | 1498/2000 [11:12:35<4:35:44, 32.96s/it]Your max_length is set to 200, but you input_length is only 190. You might consider decreasing max_length manually, e.g. summarizer('...', max_length=50)\n",
      " 75%|███████▍  | 1499/2000 [11:12:53<3:58:46, 28.60s/it]Your max_length is set to 200, but you input_length is only 164. You might consider decreasing max_length manually, e.g. summarizer('...', max_length=50)\n",
      " 75%|███████▌  | 1504/2000 [11:15:12<4:00:36, 29.11s/it]Your max_length is set to 200, but you input_length is only 33. You might consider decreasing max_length manually, e.g. summarizer('...', max_length=50)\n",
      " 75%|███████▌  | 1506/2000 [11:16:02<3:46:55, 27.56s/it]Your max_length is set to 200, but you input_length is only 196. You might consider decreasing max_length manually, e.g. summarizer('...', max_length=50)\n",
      " 76%|███████▌  | 1510/2000 [11:17:28<3:06:01, 22.78s/it]Your max_length is set to 200, but you input_length is only 195. You might consider decreasing max_length manually, e.g. summarizer('...', max_length=50)\n",
      " 76%|███████▌  | 1511/2000 [11:17:47<2:57:42, 21.80s/it]Your max_length is set to 200, but you input_length is only 165. You might consider decreasing max_length manually, e.g. summarizer('...', max_length=50)\n",
      " 76%|███████▋  | 1525/2000 [11:23:49<3:40:39, 27.87s/it]Your max_length is set to 200, but you input_length is only 165. You might consider decreasing max_length manually, e.g. summarizer('...', max_length=50)\n",
      " 77%|███████▋  | 1533/2000 [11:28:24<5:01:57, 38.80s/it]Your max_length is set to 200, but you input_length is only 141. You might consider decreasing max_length manually, e.g. summarizer('...', max_length=50)\n",
      " 77%|███████▋  | 1537/2000 [11:30:09<3:42:06, 28.78s/it]Your max_length is set to 200, but you input_length is only 170. You might consider decreasing max_length manually, e.g. summarizer('...', max_length=50)\n",
      " 77%|███████▋  | 1539/2000 [11:31:03<3:37:37, 28.32s/it]Your max_length is set to 200, but you input_length is only 146. You might consider decreasing max_length manually, e.g. summarizer('...', max_length=50)\n",
      " 78%|███████▊  | 1550/2000 [11:35:42<3:04:30, 24.60s/it]Your max_length is set to 200, but you input_length is only 94. You might consider decreasing max_length manually, e.g. summarizer('...', max_length=50)\n",
      " 78%|███████▊  | 1558/2000 [11:39:33<3:21:07, 27.30s/it]Your max_length is set to 200, but you input_length is only 171. You might consider decreasing max_length manually, e.g. summarizer('...', max_length=50)\n",
      " 78%|███████▊  | 1559/2000 [11:39:53<3:03:39, 24.99s/it]Your max_length is set to 200, but you input_length is only 137. You might consider decreasing max_length manually, e.g. summarizer('...', max_length=50)\n",
      " 78%|███████▊  | 1563/2000 [11:41:29<2:59:09, 24.60s/it]Your max_length is set to 200, but you input_length is only 185. You might consider decreasing max_length manually, e.g. summarizer('...', max_length=50)\n",
      " 78%|███████▊  | 1566/2000 [11:42:50<3:07:07, 25.87s/it]Your max_length is set to 200, but you input_length is only 98. You might consider decreasing max_length manually, e.g. summarizer('...', max_length=50)\n",
      " 78%|███████▊  | 1567/2000 [11:43:13<2:59:55, 24.93s/it]Your max_length is set to 200, but you input_length is only 127. You might consider decreasing max_length manually, e.g. summarizer('...', max_length=50)\n",
      " 78%|███████▊  | 1569/2000 [11:43:52<2:39:54, 22.26s/it]Your max_length is set to 200, but you input_length is only 157. You might consider decreasing max_length manually, e.g. summarizer('...', max_length=50)\n",
      " 78%|███████▊  | 1570/2000 [11:44:12<2:34:45, 21.59s/it]Your max_length is set to 200, but you input_length is only 150. You might consider decreasing max_length manually, e.g. summarizer('...', max_length=50)\n",
      " 79%|███████▊  | 1574/2000 [11:45:48<2:53:54, 24.49s/it]Your max_length is set to 200, but you input_length is only 48. You might consider decreasing max_length manually, e.g. summarizer('...', max_length=50)\n",
      " 79%|███████▉  | 1576/2000 [11:46:27<2:35:49, 22.05s/it]Your max_length is set to 200, but you input_length is only 155. You might consider decreasing max_length manually, e.g. summarizer('...', max_length=50)\n",
      " 79%|███████▉  | 1582/2000 [11:49:00<2:57:13, 25.44s/it]Your max_length is set to 200, but you input_length is only 188. You might consider decreasing max_length manually, e.g. summarizer('...', max_length=50)\n",
      " 79%|███████▉  | 1584/2000 [11:49:43<2:41:34, 23.30s/it]Your max_length is set to 200, but you input_length is only 157. You might consider decreasing max_length manually, e.g. summarizer('...', max_length=50)\n",
      " 79%|███████▉  | 1587/2000 [11:51:00<3:00:25, 26.21s/it]Your max_length is set to 200, but you input_length is only 53. You might consider decreasing max_length manually, e.g. summarizer('...', max_length=50)\n",
      " 79%|███████▉  | 1589/2000 [11:51:54<3:04:33, 26.94s/it]Your max_length is set to 200, but you input_length is only 181. You might consider decreasing max_length manually, e.g. summarizer('...', max_length=50)\n",
      " 80%|████████  | 1602/2000 [11:57:21<2:35:38, 23.46s/it]Your max_length is set to 200, but you input_length is only 75. You might consider decreasing max_length manually, e.g. summarizer('...', max_length=50)\n",
      " 80%|████████  | 1608/2000 [11:59:47<2:36:09, 23.90s/it]Your max_length is set to 200, but you input_length is only 109. You might consider decreasing max_length manually, e.g. summarizer('...', max_length=50)\n",
      " 81%|████████  | 1611/2000 [12:00:50<2:24:21, 22.27s/it]Your max_length is set to 200, but you input_length is only 98. You might consider decreasing max_length manually, e.g. summarizer('...', max_length=50)\n",
      " 81%|████████  | 1620/2000 [12:05:09<3:23:06, 32.07s/it]Your max_length is set to 200, but you input_length is only 188. You might consider decreasing max_length manually, e.g. summarizer('...', max_length=50)\n",
      " 81%|████████  | 1621/2000 [12:05:28<2:59:03, 28.35s/it]Your max_length is set to 200, but you input_length is only 113. You might consider decreasing max_length manually, e.g. summarizer('...', max_length=50)\n",
      " 81%|████████▏ | 1628/2000 [12:08:26<2:36:31, 25.25s/it]Your max_length is set to 200, but you input_length is only 71. You might consider decreasing max_length manually, e.g. summarizer('...', max_length=50)\n",
      " 82%|████████▏ | 1630/2000 [12:09:10<2:27:50, 23.97s/it]Your max_length is set to 200, but you input_length is only 194. You might consider decreasing max_length manually, e.g. summarizer('...', max_length=50)\n",
      " 82%|████████▏ | 1631/2000 [12:09:40<2:39:07, 25.87s/it]Your max_length is set to 200, but you input_length is only 25. You might consider decreasing max_length manually, e.g. summarizer('...', max_length=50)\n",
      " 82%|████████▏ | 1642/2000 [12:14:58<2:58:46, 29.96s/it]Your max_length is set to 200, but you input_length is only 130. You might consider decreasing max_length manually, e.g. summarizer('...', max_length=50)\n",
      " 82%|████████▏ | 1647/2000 [12:17:35<3:10:07, 32.31s/it]Your max_length is set to 200, but you input_length is only 146. You might consider decreasing max_length manually, e.g. summarizer('...', max_length=50)\n",
      " 83%|████████▎ | 1661/2000 [12:23:38<2:33:40, 27.20s/it]Your max_length is set to 200, but you input_length is only 162. You might consider decreasing max_length manually, e.g. summarizer('...', max_length=50)\n",
      " 83%|████████▎ | 1663/2000 [12:24:25<2:23:11, 25.49s/it]Your max_length is set to 200, but you input_length is only 64. You might consider decreasing max_length manually, e.g. summarizer('...', max_length=50)\n",
      " 83%|████████▎ | 1664/2000 [12:24:42<2:09:10, 23.07s/it]Your max_length is set to 200, but you input_length is only 193. You might consider decreasing max_length manually, e.g. summarizer('...', max_length=50)\n",
      " 84%|████████▎ | 1670/2000 [12:27:18<2:29:12, 27.13s/it]Your max_length is set to 200, but you input_length is only 194. You might consider decreasing max_length manually, e.g. summarizer('...', max_length=50)\n",
      " 84%|████████▍ | 1683/2000 [12:33:33<2:38:14, 29.95s/it]Your max_length is set to 200, but you input_length is only 31. You might consider decreasing max_length manually, e.g. summarizer('...', max_length=50)\n",
      " 85%|████████▍ | 1694/2000 [12:38:41<2:10:17, 25.55s/it]Your max_length is set to 200, but you input_length is only 154. You might consider decreasing max_length manually, e.g. summarizer('...', max_length=50)\n",
      " 85%|████████▌ | 1708/2000 [12:45:16<2:21:03, 28.98s/it]Your max_length is set to 200, but you input_length is only 130. You might consider decreasing max_length manually, e.g. summarizer('...', max_length=50)\n",
      " 85%|████████▌ | 1709/2000 [12:45:39<2:11:30, 27.11s/it]Your max_length is set to 200, but you input_length is only 106. You might consider decreasing max_length manually, e.g. summarizer('...', max_length=50)\n",
      " 86%|████████▌ | 1716/2000 [12:49:03<2:21:51, 29.97s/it]Your max_length is set to 200, but you input_length is only 128. You might consider decreasing max_length manually, e.g. summarizer('...', max_length=50)\n",
      " 86%|████████▌ | 1717/2000 [12:49:22<2:05:38, 26.64s/it]Your max_length is set to 200, but you input_length is only 192. You might consider decreasing max_length manually, e.g. summarizer('...', max_length=50)\n",
      " 87%|████████▋ | 1731/2000 [12:56:15<2:05:01, 27.89s/it]Your max_length is set to 200, but you input_length is only 183. You might consider decreasing max_length manually, e.g. summarizer('...', max_length=50)\n",
      " 87%|████████▋ | 1734/2000 [12:57:32<1:56:45, 26.34s/it]Your max_length is set to 200, but you input_length is only 108. You might consider decreasing max_length manually, e.g. summarizer('...', max_length=50)\n",
      " 87%|████████▋ | 1736/2000 [12:58:19<1:49:08, 24.80s/it]Your max_length is set to 200, but you input_length is only 119. You might consider decreasing max_length manually, e.g. summarizer('...', max_length=50)\n",
      " 87%|████████▋ | 1747/2000 [13:03:37<2:03:14, 29.23s/it]Your max_length is set to 200, but you input_length is only 66. You might consider decreasing max_length manually, e.g. summarizer('...', max_length=50)\n",
      " 87%|████████▋ | 1749/2000 [13:04:14<1:40:19, 23.98s/it]Your max_length is set to 200, but you input_length is only 167. You might consider decreasing max_length manually, e.g. summarizer('...', max_length=50)\n",
      " 88%|████████▊ | 1750/2000 [13:04:39<1:40:16, 24.07s/it]Your max_length is set to 200, but you input_length is only 144. You might consider decreasing max_length manually, e.g. summarizer('...', max_length=50)\n",
      " 88%|████████▊ | 1752/2000 [13:05:25<1:37:19, 23.55s/it]Your max_length is set to 200, but you input_length is only 196. You might consider decreasing max_length manually, e.g. summarizer('...', max_length=50)\n",
      " 88%|████████▊ | 1753/2000 [13:05:43<1:30:37, 22.01s/it]Your max_length is set to 200, but you input_length is only 149. You might consider decreasing max_length manually, e.g. summarizer('...', max_length=50)\n",
      " 88%|████████▊ | 1755/2000 [13:06:25<1:28:26, 21.66s/it]Your max_length is set to 200, but you input_length is only 191. You might consider decreasing max_length manually, e.g. summarizer('...', max_length=50)\n",
      " 88%|████████▊ | 1756/2000 [13:06:47<1:29:07, 21.91s/it]Your max_length is set to 200, but you input_length is only 169. You might consider decreasing max_length manually, e.g. summarizer('...', max_length=50)\n",
      " 88%|████████▊ | 1759/2000 [13:07:50<1:26:45, 21.60s/it]Your max_length is set to 200, but you input_length is only 47. You might consider decreasing max_length manually, e.g. summarizer('...', max_length=50)\n",
      " 88%|████████▊ | 1763/2000 [13:09:34<1:38:43, 25.00s/it]Your max_length is set to 200, but you input_length is only 32. You might consider decreasing max_length manually, e.g. summarizer('...', max_length=50)\n",
      " 89%|████████▉ | 1775/2000 [13:14:55<2:07:54, 34.11s/it]Your max_length is set to 200, but you input_length is only 101. You might consider decreasing max_length manually, e.g. summarizer('...', max_length=50)\n",
      " 89%|████████▉ | 1780/2000 [13:17:10<1:45:57, 28.90s/it]Your max_length is set to 200, but you input_length is only 147. You might consider decreasing max_length manually, e.g. summarizer('...', max_length=50)\n",
      " 89%|████████▉ | 1781/2000 [13:17:48<1:55:49, 31.73s/it]Your max_length is set to 200, but you input_length is only 193. You might consider decreasing max_length manually, e.g. summarizer('...', max_length=50)\n",
      " 89%|████████▉ | 1784/2000 [13:18:56<1:33:23, 25.94s/it]Your max_length is set to 200, but you input_length is only 136. You might consider decreasing max_length manually, e.g. summarizer('...', max_length=50)\n",
      " 89%|████████▉ | 1787/2000 [13:20:10<1:30:35, 25.52s/it]Your max_length is set to 200, but you input_length is only 128. You might consider decreasing max_length manually, e.g. summarizer('...', max_length=50)\n",
      " 89%|████████▉ | 1788/2000 [13:20:29<1:23:03, 23.51s/it]Your max_length is set to 200, but you input_length is only 143. You might consider decreasing max_length manually, e.g. summarizer('...', max_length=50)\n",
      " 89%|████████▉ | 1789/2000 [13:20:53<1:23:12, 23.66s/it]Your max_length is set to 200, but you input_length is only 195. You might consider decreasing max_length manually, e.g. summarizer('...', max_length=50)\n",
      " 90%|████████▉ | 1795/2000 [13:23:22<1:29:35, 26.22s/it]Your max_length is set to 200, but you input_length is only 187. You might consider decreasing max_length manually, e.g. summarizer('...', max_length=50)\n",
      " 90%|█████████ | 1800/2000 [13:26:36<1:54:11, 34.26s/it]Your max_length is set to 200, but you input_length is only 173. You might consider decreasing max_length manually, e.g. summarizer('...', max_length=50)\n",
      " 90%|█████████ | 1807/2000 [13:29:38<1:27:59, 27.35s/it]Your max_length is set to 200, but you input_length is only 190. You might consider decreasing max_length manually, e.g. summarizer('...', max_length=50)\n"
     ]
    },
    {
     "name": "stderr",
     "output_type": "stream",
     "text": [
      " 90%|█████████ | 1808/2000 [13:29:56<1:18:35, 24.56s/it]Your max_length is set to 200, but you input_length is only 102. You might consider decreasing max_length manually, e.g. summarizer('...', max_length=50)\n",
      " 91%|█████████ | 1823/2000 [13:36:47<1:17:40, 26.33s/it]Your max_length is set to 200, but you input_length is only 101. You might consider decreasing max_length manually, e.g. summarizer('...', max_length=50)\n",
      " 91%|█████████▏| 1825/2000 [13:37:38<1:17:23, 26.53s/it]Your max_length is set to 200, but you input_length is only 99. You might consider decreasing max_length manually, e.g. summarizer('...', max_length=50)\n",
      " 92%|█████████▏| 1833/2000 [13:41:19<1:17:35, 27.88s/it]Your max_length is set to 200, but you input_length is only 133. You might consider decreasing max_length manually, e.g. summarizer('...', max_length=50)\n",
      " 92%|█████████▏| 1835/2000 [13:42:09<1:11:40, 26.06s/it]Your max_length is set to 200, but you input_length is only 139. You might consider decreasing max_length manually, e.g. summarizer('...', max_length=50)\n",
      " 92%|█████████▏| 1838/2000 [13:43:25<1:12:10, 26.73s/it]Your max_length is set to 200, but you input_length is only 103. You might consider decreasing max_length manually, e.g. summarizer('...', max_length=50)\n",
      " 92%|█████████▏| 1839/2000 [13:43:43<1:04:06, 23.89s/it]Your max_length is set to 200, but you input_length is only 145. You might consider decreasing max_length manually, e.g. summarizer('...', max_length=50)\n",
      " 92%|█████████▏| 1841/2000 [13:44:31<1:04:31, 24.35s/it]Your max_length is set to 200, but you input_length is only 191. You might consider decreasing max_length manually, e.g. summarizer('...', max_length=50)\n",
      " 92%|█████████▏| 1843/2000 [13:45:15<1:00:06, 22.97s/it]Your max_length is set to 200, but you input_length is only 164. You might consider decreasing max_length manually, e.g. summarizer('...', max_length=50)\n",
      " 92%|█████████▏| 1844/2000 [13:45:38<59:48, 23.00s/it]  Your max_length is set to 200, but you input_length is only 86. You might consider decreasing max_length manually, e.g. summarizer('...', max_length=50)\n",
      " 92%|█████████▏| 1847/2000 [13:46:46<58:47, 23.06s/it]Your max_length is set to 200, but you input_length is only 158. You might consider decreasing max_length manually, e.g. summarizer('...', max_length=50)\n",
      " 93%|█████████▎| 1861/2000 [13:53:26<1:06:04, 28.52s/it]Your max_length is set to 200, but you input_length is only 111. You might consider decreasing max_length manually, e.g. summarizer('...', max_length=50)\n",
      " 93%|█████████▎| 1868/2000 [13:56:37<1:06:16, 30.12s/it]Your max_length is set to 200, but you input_length is only 135. You might consider decreasing max_length manually, e.g. summarizer('...', max_length=50)\n",
      " 93%|█████████▎| 1869/2000 [13:57:00<1:01:21, 28.10s/it]Your max_length is set to 200, but you input_length is only 73. You might consider decreasing max_length manually, e.g. summarizer('...', max_length=50)\n",
      " 94%|█████████▎| 1870/2000 [13:57:22<56:36, 26.13s/it]  Your max_length is set to 200, but you input_length is only 88. You might consider decreasing max_length manually, e.g. summarizer('...', max_length=50)\n",
      " 94%|█████████▍| 1875/2000 [13:59:53<1:03:50, 30.65s/it]Your max_length is set to 200, but you input_length is only 178. You might consider decreasing max_length manually, e.g. summarizer('...', max_length=50)\n",
      " 94%|█████████▍| 1880/2000 [14:01:34<40:10, 20.08s/it]  Your max_length is set to 200, but you input_length is only 159. You might consider decreasing max_length manually, e.g. summarizer('...', max_length=50)\n",
      " 94%|█████████▍| 1883/2000 [14:02:46<44:42, 22.93s/it]Your max_length is set to 200, but you input_length is only 179. You might consider decreasing max_length manually, e.g. summarizer('...', max_length=50)\n",
      " 94%|█████████▍| 1889/2000 [14:05:15<46:22, 25.07s/it]Your max_length is set to 200, but you input_length is only 111. You might consider decreasing max_length manually, e.g. summarizer('...', max_length=50)\n",
      " 95%|█████████▍| 1891/2000 [14:06:01<44:07, 24.29s/it]Your max_length is set to 200, but you input_length is only 173. You might consider decreasing max_length manually, e.g. summarizer('...', max_length=50)\n",
      " 95%|█████████▍| 1894/2000 [14:07:28<50:37, 28.66s/it]Your max_length is set to 200, but you input_length is only 193. You might consider decreasing max_length manually, e.g. summarizer('...', max_length=50)\n",
      " 95%|█████████▌| 1906/2000 [14:12:29<39:57, 25.50s/it]Your max_length is set to 200, but you input_length is only 91. You might consider decreasing max_length manually, e.g. summarizer('...', max_length=50)\n",
      " 95%|█████████▌| 1907/2000 [14:12:55<39:42, 25.62s/it]Your max_length is set to 200, but you input_length is only 144. You might consider decreasing max_length manually, e.g. summarizer('...', max_length=50)\n",
      " 95%|█████████▌| 1909/2000 [14:13:38<35:46, 23.59s/it]Your max_length is set to 200, but you input_length is only 160. You might consider decreasing max_length manually, e.g. summarizer('...', max_length=50)\n",
      " 96%|█████████▌| 1912/2000 [14:14:52<35:46, 24.39s/it]Your max_length is set to 200, but you input_length is only 102. You might consider decreasing max_length manually, e.g. summarizer('...', max_length=50)\n",
      " 96%|█████████▌| 1914/2000 [14:15:37<34:24, 24.00s/it]Your max_length is set to 200, but you input_length is only 133. You might consider decreasing max_length manually, e.g. summarizer('...', max_length=50)\n",
      " 96%|█████████▌| 1915/2000 [14:15:55<31:22, 22.15s/it]Your max_length is set to 200, but you input_length is only 82. You might consider decreasing max_length manually, e.g. summarizer('...', max_length=50)\n",
      " 96%|█████████▌| 1917/2000 [14:16:47<33:21, 24.12s/it]Your max_length is set to 200, but you input_length is only 164. You might consider decreasing max_length manually, e.g. summarizer('...', max_length=50)\n",
      " 96%|█████████▌| 1924/2000 [14:19:50<33:50, 26.71s/it]Your max_length is set to 200, but you input_length is only 179. You might consider decreasing max_length manually, e.g. summarizer('...', max_length=50)\n",
      " 96%|█████████▋| 1927/2000 [14:20:59<30:39, 25.21s/it]Your max_length is set to 200, but you input_length is only 196. You might consider decreasing max_length manually, e.g. summarizer('...', max_length=50)\n",
      " 96%|█████████▋| 1930/2000 [14:22:03<26:57, 23.11s/it]Your max_length is set to 200, but you input_length is only 72. You might consider decreasing max_length manually, e.g. summarizer('...', max_length=50)\n",
      " 97%|█████████▋| 1931/2000 [14:22:22<24:59, 21.73s/it]Your max_length is set to 200, but you input_length is only 175. You might consider decreasing max_length manually, e.g. summarizer('...', max_length=50)\n",
      " 97%|█████████▋| 1938/2000 [14:25:05<25:47, 24.96s/it]Your max_length is set to 200, but you input_length is only 176. You might consider decreasing max_length manually, e.g. summarizer('...', max_length=50)\n",
      " 97%|█████████▋| 1939/2000 [14:25:24<23:38, 23.25s/it]Your min_length is set to 50, but you input_length is only 24. You might consider decreasing min_length manually, e.g. summarizer('...', min_length=10)\n",
      "Your max_length is set to 200, but you input_length is only 24. You might consider decreasing max_length manually, e.g. summarizer('...', max_length=50)\n",
      " 97%|█████████▋| 1948/2000 [14:29:46<25:05, 28.95s/it]Your max_length is set to 200, but you input_length is only 70. You might consider decreasing max_length manually, e.g. summarizer('...', max_length=50)\n",
      " 97%|█████████▋| 1949/2000 [14:30:03<21:31, 25.31s/it]Your max_length is set to 200, but you input_length is only 177. You might consider decreasing max_length manually, e.g. summarizer('...', max_length=50)\n",
      " 98%|█████████▊| 1969/2000 [14:39:14<16:32, 32.03s/it]Your max_length is set to 200, but you input_length is only 169. You might consider decreasing max_length manually, e.g. summarizer('...', max_length=50)\n",
      " 99%|█████████▉| 1975/2000 [14:41:52<11:09, 26.76s/it]Your max_length is set to 200, but you input_length is only 93. You might consider decreasing max_length manually, e.g. summarizer('...', max_length=50)\n",
      " 99%|█████████▉| 1978/2000 [14:43:06<09:44, 26.59s/it]Your max_length is set to 200, but you input_length is only 104. You might consider decreasing max_length manually, e.g. summarizer('...', max_length=50)\n"
     ]
    },
    {
     "name": "stderr",
     "output_type": "stream",
     "text": [
      " 99%|█████████▉| 1980/2000 [14:43:52<08:13, 24.68s/it]Your max_length is set to 200, but you input_length is only 154. You might consider decreasing max_length manually, e.g. summarizer('...', max_length=50)\n",
      " 99%|█████████▉| 1981/2000 [14:44:10<07:09, 22.60s/it]Your max_length is set to 200, but you input_length is only 168. You might consider decreasing max_length manually, e.g. summarizer('...', max_length=50)\n",
      " 99%|█████████▉| 1983/2000 [14:45:00<06:46, 23.90s/it]Your max_length is set to 200, but you input_length is only 70. You might consider decreasing max_length manually, e.g. summarizer('...', max_length=50)\n",
      " 99%|█████████▉| 1985/2000 [14:45:50<06:15, 25.01s/it]Your max_length is set to 200, but you input_length is only 188. You might consider decreasing max_length manually, e.g. summarizer('...', max_length=50)\n",
      "100%|█████████▉| 1992/2000 [14:49:04<03:45, 28.17s/it]Your max_length is set to 200, but you input_length is only 111. You might consider decreasing max_length manually, e.g. summarizer('...', max_length=50)\n",
      "100%|██████████| 2000/2000 [14:52:50<00:00, 26.79s/it]\n"
     ]
    }
   ],
   "source": [
    "lyrics_summarized = []\n",
    "\n",
    "for lyr in tqdm(lyrics_plain):\n",
    "    \n",
    "    text = '. '.join(lyr)\n",
    "    \n",
    "    if len(text) >= 50:\n",
    "        summary = summarizer(text, min_length=50, max_length=200)[0]['summary_text']\n",
    "    else:\n",
    "        summary = text\n",
    "        \n",
    "    lyrics_summarized.append(summary)"
   ]
  },
  {
   "cell_type": "code",
   "execution_count": 292,
   "id": "7bc60f13",
   "metadata": {},
   "outputs": [],
   "source": [
    "with open(\"lyrics_summarized.txt\", \"w\") as output:\n",
    "    output.write(str(lyrics_summarized))"
   ]
  },
  {
   "cell_type": "markdown",
   "id": "c34bbede",
   "metadata": {},
   "source": [
    "## Embeddings"
   ]
  },
  {
   "cell_type": "code",
   "execution_count": null,
   "id": "09df7a44",
   "metadata": {
    "scrolled": true
   },
   "outputs": [],
   "source": [
    "import ast\n",
    "import spacy\n",
    "import contractions\n",
    "from nimbusml import Pipeline\n",
    "from nimbusml.feature_extraction.text import NGramFeaturizer, WordEmbedding\n",
    "from nimbusml.feature_extraction.text.extractor import Ngram\n",
    "from sentence_transformers import SentenceTransformer\n",
    "\n",
    "nlp = spacy.load('en_core_web_lg')\n",
    "sbert = SentenceTransformer('all-MiniLM-L6-v2')\n",
    "sbert.max_seq_length = 256"
   ]
  },
  {
   "cell_type": "code",
   "execution_count": 21,
   "id": "74e5d079",
   "metadata": {},
   "outputs": [],
   "source": [
    "# File loading\n",
    "def load_txt(filepath):\n",
    "\n",
    "    with open(filepath, 'r') as f:\n",
    "            file_list = ast.literal_eval(f.read())\n",
    "    \n",
    "    return file_list"
   ]
  },
  {
   "cell_type": "code",
   "execution_count": 207,
   "id": "da602331",
   "metadata": {},
   "outputs": [],
   "source": [
    "# Pipeline for SSWE\n",
    "pipeline = Pipeline([\n",
    "   NGramFeaturizer(word_feature_extractor=Ngram(),\n",
    "                   char_feature_extractor=None,\n",
    "                   keep_numbers=False,\n",
    "                   output_tokens_column_name='sswe',\n",
    "                   columns={'ngram': ['sentence']}),\n",
    "\n",
    "   WordEmbedding(model_kind='SentimentSpecificWordEmbedding', columns='sswe')\n",
    "])"
   ]
  },
  {
   "cell_type": "markdown",
   "id": "ebcd9739",
   "metadata": {},
   "source": [
    "### lyrics_plain"
   ]
  },
  {
   "cell_type": "code",
   "execution_count": 74,
   "id": "205653f0",
   "metadata": {},
   "outputs": [],
   "source": [
    "# Load file\n",
    "lyrics_plain = load_txt(\"/Users/sergiopicascia/Documents/GitHub/thesis/Data/text/lyrics_plain.txt\")"
   ]
  },
  {
   "cell_type": "code",
   "execution_count": 77,
   "id": "755d35d7",
   "metadata": {
    "scrolled": true
   },
   "outputs": [],
   "source": [
    "# Split by '. ' and flatten lists\n",
    "for idx, lyrics in enumerate(lyrics_plain):\n",
    "    for idx2, sentence in enumerate(lyrics):\n",
    "        lyrics[idx2] = sentence.split('. ')\n",
    "    lyrics_plain[idx] = [item for sublist in lyrics for item in sublist]"
   ]
  },
  {
   "cell_type": "code",
   "execution_count": 203,
   "id": "7a542a49",
   "metadata": {
    "scrolled": true
   },
   "outputs": [
    {
     "name": "stderr",
     "output_type": "stream",
     "text": [
      "2000it [06:17,  5.30it/s]\n"
     ]
    }
   ],
   "source": [
    "# Lemmatize text\n",
    "lyrics_plain_lemma = []\n",
    "\n",
    "for idx, lyrics in tqdm(enumerate(lyrics_plain)):\n",
    "    for sentence in lyrics:\n",
    "        sentence = contractions.fix(sentence)\n",
    "        sentence = ' '.join([token.lemma_ for token in nlp(sentence)])\n",
    "        \n",
    "        lyrics_plain_lemma.append((sentence, idx))\n",
    "        \n",
    "lyrics_plain_lemma = pd.DataFrame(lyrics_plain_lemma, columns=['sentence', 'lyrics_idx'])"
   ]
  },
  {
   "cell_type": "code",
   "execution_count": 208,
   "id": "1fcb83f8",
   "metadata": {},
   "outputs": [],
   "source": [
    "# SSWE\n",
    "lyrics_plain_sswe = pipeline.fit_transform(lyrics_plain_lemma)"
   ]
  },
  {
   "cell_type": "code",
   "execution_count": 225,
   "id": "fa1ae74e",
   "metadata": {},
   "outputs": [],
   "source": [
    "lyrics_plain_emb = lyrics_plain_sswe.loc[:, \"lyrics_idx\":\"sswe.149\"].groupby('lyrics_idx').mean()"
   ]
  },
  {
   "cell_type": "code",
   "execution_count": 242,
   "id": "a29cdd83",
   "metadata": {},
   "outputs": [],
   "source": [
    "# sBERT\n",
    "sent_emb = sbert.encode(list(lyrics_plain_lemma['sentence']))"
   ]
  },
  {
   "cell_type": "code",
   "execution_count": null,
   "id": "90f64097",
   "metadata": {
    "scrolled": true
   },
   "outputs": [],
   "source": [
    "col_names = ['sbert.'+str(i) for i in range(384)]\n",
    "sent_emb = pd.DataFrame(sent_emb, columns=col_names)\n",
    "sent_emb['lyrics_idx'] = lyrics_plain_lemma['lyrics_idx']\n",
    "sent_emb = sent_emb.groupby('lyrics_idx').mean()"
   ]
  },
  {
   "cell_type": "code",
   "execution_count": 267,
   "id": "eb46cc68",
   "metadata": {},
   "outputs": [],
   "source": [
    "# Concatenate Embeddings\n",
    "lyrics_plain_emb = pd.concat([lyrics_plain_emb, sent_emb], axis=1)"
   ]
  },
  {
   "cell_type": "code",
   "execution_count": 271,
   "id": "b4709e3a",
   "metadata": {},
   "outputs": [],
   "source": [
    "lyrics_plain_emb.to_csv('lyrics_plain_embeddings.csv')"
   ]
  },
  {
   "cell_type": "markdown",
   "id": "18f38798",
   "metadata": {},
   "source": [
    "### lyrics_weighted"
   ]
  },
  {
   "cell_type": "code",
   "execution_count": 272,
   "id": "0e16c9c0",
   "metadata": {},
   "outputs": [],
   "source": [
    "lyrics_weighted = load_txt(\"/Users/sergiopicascia/Documents/GitHub/thesis/Data/text/lyrics_weighted.txt\")"
   ]
  },
  {
   "cell_type": "code",
   "execution_count": 282,
   "id": "9e2825c2",
   "metadata": {},
   "outputs": [
    {
     "name": "stderr",
     "output_type": "stream",
     "text": [
      "2000it [06:17,  5.30it/s]\n"
     ]
    }
   ],
   "source": [
    "lyrics_weighted_lemma = []\n",
    "\n",
    "for idx, lyrics in tqdm(enumerate(lyrics_weighted)):\n",
    "    for sentence, weight in lyrics:\n",
    "        \n",
    "        sentence = contractions.fix(sentence)\n",
    "        sentence = ' '.join([token.lemma_ for token in nlp(sentence)])\n",
    "        \n",
    "        lyrics_weighted_lemma.append((sentence, weight, idx))"
   ]
  },
  {
   "cell_type": "code",
   "execution_count": 284,
   "id": "1c2988b0",
   "metadata": {},
   "outputs": [],
   "source": [
    "lyrics_weighted_lemma = pd.DataFrame(lyrics_weighted_lemma, columns=['sentence', 'weight', 'lyrics_idx'])"
   ]
  },
  {
   "cell_type": "code",
   "execution_count": 285,
   "id": "261c13c8",
   "metadata": {},
   "outputs": [],
   "source": [
    "# SSWE\n",
    "lyrics_weighted_sswe = pipeline.fit_transform(lyrics_weighted_lemma)"
   ]
  },
  {
   "cell_type": "code",
   "execution_count": 289,
   "id": "d50de3e3",
   "metadata": {},
   "outputs": [],
   "source": [
    "lyrics_weighted_sswe = lyrics_weighted_sswe.loc[:, \"weight\":\"sswe.149\"]"
   ]
  },
  {
   "cell_type": "code",
   "execution_count": 290,
   "id": "0198bad5",
   "metadata": {},
   "outputs": [
    {
     "name": "stderr",
     "output_type": "stream",
     "text": [
      "/Users/sergiopicascia/opt/anaconda3/lib/python3.8/site-packages/transformers/tokenization_utils_base.py:2227: UserWarning: `max_length` is ignored when `padding`=`True`.\n",
      "  warnings.warn(\"`max_length` is ignored when `padding`=`True`.\")\n"
     ]
    }
   ],
   "source": [
    "# sBERT\n",
    "lyrics_weighted_sbert = sbert.encode(list(lyrics_weighted_lemma['sentence']))"
   ]
  },
  {
   "cell_type": "code",
   "execution_count": 294,
   "id": "7982d246",
   "metadata": {
    "scrolled": true
   },
   "outputs": [],
   "source": [
    "lyrics_weighted_sbert = pd.DataFrame(lyrics_weighted_sbert, columns=col_names)"
   ]
  },
  {
   "cell_type": "code",
   "execution_count": 297,
   "id": "7fe744f0",
   "metadata": {},
   "outputs": [],
   "source": [
    "# Concatenate Embeddings\n",
    "lyrics_weighted_emb = pd.concat([lyrics_weighted_sswe, lyrics_weighted_sbert], axis=1)"
   ]
  },
  {
   "cell_type": "code",
   "execution_count": 306,
   "id": "11793cd6",
   "metadata": {},
   "outputs": [],
   "source": [
    "# Weighted Average\n",
    "lyrics_weighted_emb = lyrics_weighted_emb.groupby('lyrics_idx').apply(lambda x: pd.Series(np.average(x[lyrics_weighted_emb.columns[2:]], weights=x[\"weight\"], axis=0), [lyrics_weighted_emb.columns[2:]]))"
   ]
  },
  {
   "cell_type": "code",
   "execution_count": 307,
   "id": "f706a81b",
   "metadata": {},
   "outputs": [],
   "source": [
    "lyrics_weighted_emb.to_csv('lyrics_weighted_embeddings.csv')"
   ]
  },
  {
   "cell_type": "markdown",
   "id": "0cad159f",
   "metadata": {},
   "source": [
    "### choruses"
   ]
  },
  {
   "cell_type": "code",
   "execution_count": 308,
   "id": "f5b81f8f",
   "metadata": {},
   "outputs": [],
   "source": [
    "choruses = load_txt('/Users/sergiopicascia/Documents/GitHub/thesis/Data/text/choruses.txt')"
   ]
  },
  {
   "cell_type": "code",
   "execution_count": 311,
   "id": "d0fb5858",
   "metadata": {},
   "outputs": [
    {
     "name": "stderr",
     "output_type": "stream",
     "text": [
      "100%|██████████| 2000/2000 [00:19<00:00, 103.20it/s]\n"
     ]
    }
   ],
   "source": [
    "choruses_lemma = []\n",
    "\n",
    "for chorus in tqdm(choruses):\n",
    "    chorus = ', '.join(chorus)\n",
    "    chorus = contractions.fix(chorus)\n",
    "    chorus = ' '.join([token.lemma_ for token in nlp(chorus)])\n",
    "    \n",
    "    choruses_lemma.append(chorus)"
   ]
  },
  {
   "cell_type": "code",
   "execution_count": 314,
   "id": "ffa11dd3",
   "metadata": {
    "scrolled": true
   },
   "outputs": [],
   "source": [
    "choruses_lemma = pd.DataFrame(choruses_lemma, columns=['sentence'])"
   ]
  },
  {
   "cell_type": "code",
   "execution_count": 315,
   "id": "15d23c23",
   "metadata": {},
   "outputs": [],
   "source": [
    "# SSWE\n",
    "choruses_sswe = pipeline.fit_transform(choruses_lemma)"
   ]
  },
  {
   "cell_type": "code",
   "execution_count": 318,
   "id": "17690dad",
   "metadata": {},
   "outputs": [],
   "source": [
    "choruses_sswe = choruses_sswe.loc[:, \"sswe.0\":\"sswe.149\"]"
   ]
  },
  {
   "cell_type": "code",
   "execution_count": 319,
   "id": "68e72971",
   "metadata": {},
   "outputs": [
    {
     "name": "stderr",
     "output_type": "stream",
     "text": [
      "/Users/sergiopicascia/opt/anaconda3/lib/python3.8/site-packages/transformers/tokenization_utils_base.py:2227: UserWarning: `max_length` is ignored when `padding`=`True`.\n",
      "  warnings.warn(\"`max_length` is ignored when `padding`=`True`.\")\n"
     ]
    }
   ],
   "source": [
    "# sBERT\n",
    "choruses_sbert = sbert.encode(list(choruses_lemma['sentence']))"
   ]
  },
  {
   "cell_type": "code",
   "execution_count": 321,
   "id": "5c152336",
   "metadata": {},
   "outputs": [],
   "source": [
    "choruses_sbert = pd.DataFrame(choruses_sbert, columns=col_names)"
   ]
  },
  {
   "cell_type": "code",
   "execution_count": 322,
   "id": "df61a71f",
   "metadata": {},
   "outputs": [],
   "source": [
    "# Concatenate Embeddings\n",
    "choruses_emb = pd.concat([choruses_sswe, choruses_sbert], axis=1)"
   ]
  },
  {
   "cell_type": "code",
   "execution_count": 324,
   "id": "91724571",
   "metadata": {},
   "outputs": [],
   "source": [
    "choruses_emb.to_csv('choruses_embeddings.csv')"
   ]
  },
  {
   "cell_type": "markdown",
   "id": "1a8c17ed",
   "metadata": {},
   "source": [
    "### lyrics_summarized"
   ]
  },
  {
   "cell_type": "code",
   "execution_count": 325,
   "id": "e06c3fa7",
   "metadata": {},
   "outputs": [],
   "source": [
    "lyrics_summarized = load_txt(\"/Users/sergiopicascia/Documents/GitHub/thesis/Data/text/lyrics_summarized.txt\")"
   ]
  },
  {
   "cell_type": "code",
   "execution_count": 329,
   "id": "af1c19c2",
   "metadata": {},
   "outputs": [
    {
     "name": "stderr",
     "output_type": "stream",
     "text": [
      "100%|██████████| 2000/2000 [00:21<00:00, 91.30it/s] \n"
     ]
    }
   ],
   "source": [
    "lyrics_summarized_lemma = []\n",
    "\n",
    "for summary in tqdm(lyrics_summarized):\n",
    "    summary = contractions.fix(summary)\n",
    "    summary = ' '.join([token.lemma_ for token in nlp(summary)])\n",
    "    \n",
    "    lyrics_summarized_lemma.append(summary)"
   ]
  },
  {
   "cell_type": "code",
   "execution_count": 331,
   "id": "0b3662c0",
   "metadata": {},
   "outputs": [],
   "source": [
    "lyrics_summarized_lemma = pd.DataFrame(lyrics_summarized_lemma, columns=['sentence'])"
   ]
  },
  {
   "cell_type": "code",
   "execution_count": 332,
   "id": "d07e89a3",
   "metadata": {},
   "outputs": [],
   "source": [
    "# SSWE\n",
    "lyrics_summarized_sswe = pipeline.fit_transform(lyrics_summarized_lemma)"
   ]
  },
  {
   "cell_type": "code",
   "execution_count": 333,
   "id": "98463194",
   "metadata": {},
   "outputs": [],
   "source": [
    "lyrics_summarized_sswe = lyrics_summarized_sswe.loc[:, \"sswe.0\":\"sswe.149\"]"
   ]
  },
  {
   "cell_type": "code",
   "execution_count": 334,
   "id": "d53d4acc",
   "metadata": {},
   "outputs": [
    {
     "name": "stderr",
     "output_type": "stream",
     "text": [
      "/Users/sergiopicascia/opt/anaconda3/lib/python3.8/site-packages/transformers/tokenization_utils_base.py:2227: UserWarning: `max_length` is ignored when `padding`=`True`.\n",
      "  warnings.warn(\"`max_length` is ignored when `padding`=`True`.\")\n"
     ]
    }
   ],
   "source": [
    "# sBERT\n",
    "lyrics_summarized_sbert = sbert.encode(list(lyrics_summarized_lemma['sentence']))"
   ]
  },
  {
   "cell_type": "code",
   "execution_count": 335,
   "id": "1d25f207",
   "metadata": {},
   "outputs": [],
   "source": [
    "lyrics_summarized_sbert = pd.DataFrame(lyrics_summarized_sbert, columns=col_names)"
   ]
  },
  {
   "cell_type": "code",
   "execution_count": 336,
   "id": "be9b2ae5",
   "metadata": {},
   "outputs": [],
   "source": [
    "# Concatenate Embeddings\n",
    "lyrics_summarized_emb = pd.concat([lyrics_summarized_sswe, lyrics_summarized_sbert], axis=1)"
   ]
  },
  {
   "cell_type": "code",
   "execution_count": 339,
   "id": "37f988b1",
   "metadata": {},
   "outputs": [],
   "source": [
    "lyrics_summarized_emb.to_csv('lyrics_summarized_embeddings.csv')"
   ]
  },
  {
   "cell_type": "code",
   "execution_count": null,
   "id": "64efb149",
   "metadata": {},
   "outputs": [],
   "source": []
  }
 ],
 "metadata": {
  "kernelspec": {
   "display_name": "Python 3",
   "language": "python",
   "name": "python3"
  },
  "language_info": {
   "codemirror_mode": {
    "name": "ipython",
    "version": 3
   },
   "file_extension": ".py",
   "mimetype": "text/x-python",
   "name": "python",
   "nbconvert_exporter": "python",
   "pygments_lexer": "ipython3",
   "version": "3.8.8"
  }
 },
 "nbformat": 4,
 "nbformat_minor": 5
}
